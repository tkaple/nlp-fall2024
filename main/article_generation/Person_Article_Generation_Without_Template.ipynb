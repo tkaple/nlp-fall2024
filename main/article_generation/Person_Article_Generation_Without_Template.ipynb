{
 "cells": [
  {
   "cell_type": "code",
   "execution_count": 1,
   "id": "973daced",
   "metadata": {},
   "outputs": [
    {
     "name": "stdout",
     "output_type": "stream",
     "text": [
      "Sun Dec  8 11:25:39 2024       \r\n",
      "+-----------------------------------------------------------------------------------------+\r\n",
      "| NVIDIA-SMI 555.42.02              Driver Version: 555.42.02      CUDA Version: 12.5     |\r\n",
      "|-----------------------------------------+------------------------+----------------------+\r\n",
      "| GPU  Name                 Persistence-M | Bus-Id          Disp.A | Volatile Uncorr. ECC |\r\n",
      "| Fan  Temp   Perf          Pwr:Usage/Cap |           Memory-Usage | GPU-Util  Compute M. |\r\n",
      "|                                         |                        |               MIG M. |\r\n",
      "|=========================================+========================+======================|\r\n",
      "|   0  NVIDIA A100 80GB PCIe          On  |   00000000:C1:00.0 Off |                    0 |\r\n",
      "| N/A   31C    P0             45W /  300W |       1MiB /  81920MiB |      0%      Default |\r\n",
      "|                                         |                        |             Disabled |\r\n",
      "+-----------------------------------------+------------------------+----------------------+\r\n",
      "                                                                                         \r\n",
      "+-----------------------------------------------------------------------------------------+\r\n",
      "| Processes:                                                                              |\r\n",
      "|  GPU   GI   CI        PID   Type   Process name                              GPU Memory |\r\n",
      "|        ID   ID                                                               Usage      |\r\n",
      "|=========================================================================================|\r\n",
      "|  No running processes found                                                             |\r\n",
      "+-----------------------------------------------------------------------------------------+\r\n"
     ]
    }
   ],
   "source": [
    "!nvidia-smi"
   ]
  },
  {
   "cell_type": "code",
   "execution_count": null,
   "id": "f0ca13f0",
   "metadata": {},
   "outputs": [],
   "source": [
    "############# Load Template Sentences from Chroma DB ####################################"
   ]
  },
  {
   "cell_type": "code",
   "execution_count": 3,
   "id": "939fb2b7",
   "metadata": {},
   "outputs": [],
   "source": [
    "occupation = \"politician\"\n",
    "CHROMA_SOURCE = \"template_\" + occupation\n",
    "CHROMA_SOURCE_JSON = \"json_\" + occupation\n",
    "CHROMA_CHUNK_SIZE = 1000\n",
    "CHROMA_PERSIST_DIRECTORY = \"./chroma_db\"\n",
    "CHROMA_COLLECTION_NAME = occupation + \"_json_files\"\n",
    "EMBEDDINGS_MODEL = \"sentence-transformers/paraphrase-multilingual-MiniLM-L12-v2\""
   ]
  },
  {
   "cell_type": "code",
   "execution_count": 4,
   "id": "bc7488a9",
   "metadata": {},
   "outputs": [],
   "source": [
    "import os\n",
    "os.environ[\"HF_HOME\"] = \"~/scratch/hf-cache\"\n",
    "from langchain.docstore.document import Document\n",
    "from langchain_text_splitters import CharacterTextSplitter\n",
    "from langchain.embeddings import SentenceTransformerEmbeddings\n",
    "from langchain.vectorstores import Chroma"
   ]
  },
  {
   "cell_type": "code",
   "execution_count": null,
   "id": "c1708c29",
   "metadata": {},
   "outputs": [],
   "source": [
    "############# Load LLama ######################"
   ]
  },
  {
   "cell_type": "code",
   "execution_count": null,
   "id": "5e5d8c1d",
   "metadata": {},
   "outputs": [
    {
     "name": "stdout",
     "output_type": "stream",
     "text": [
      "🦥 Unsloth: Will patch your computer to enable 2x faster free finetuning.\n"
     ]
    },
    {
     "name": "stderr",
     "output_type": "stream",
     "text": [
      "/home/hice1/tkaple3/.conda/envs/myenv/lib/python3.11/site-packages/tqdm/auto.py:21: TqdmWarning: IProgress not found. Please update jupyter and ipywidgets. See https://ipywidgets.readthedocs.io/en/stable/user_install.html\n",
      "  from .autonotebook import tqdm as notebook_tqdm\n"
     ]
    },
    {
     "name": "stdout",
     "output_type": "stream",
     "text": [
      "==((====))==  Unsloth 2024.11.6: Fast Llama patching. Transformers = 4.46.2.\n",
      "   \\\\   /|    GPU: NVIDIA A100 80GB PCIe. Max memory: 79.256 GB. Platform = Linux.\n",
      "O^O/ \\_/ \\    Pytorch: 2.5.1+cu124. CUDA = 8.0. CUDA Toolkit = 12.4.\n",
      "\\        /    Bfloat16 = TRUE. FA [Xformers = 0.0.28.post3. FA2 = False]\n",
      " \"-____-\"     Free Apache license: http://github.com/unslothai/unsloth\n",
      "Unsloth: Fast downloading is enabled - ignore downloading bars which are red colored!\n"
     ]
    },
    {
     "name": "stderr",
     "output_type": "stream",
     "text": [
      "Loading checkpoint shards: 100%|██████████| 6/6 [05:37<00:00, 56.30s/it]\n"
     ]
    }
   ],
   "source": [
    "from unsloth import FastLanguageModel\n",
    "import torch\n",
    "max_seq_length = 8192 # Choose any! We auto support RoPE Scaling internally!\n",
    "dtype = None # None for auto detection. Float16 for Tesla T4, V100, Bfloat16 for Ampere+\n",
    "load_in_4bit = True # Use 4bit quantization to reduce memory usage. Can be False.\n",
    "with torch.no_grad():\n",
    "    model, tokenizer = FastLanguageModel.from_pretrained(\n",
    "        model_name = \"unsloth/Meta-Llama-3.1-70B-Instruct-bnb-4bit\",\n",
    "        max_seq_length = max_seq_length,\n",
    "        dtype = dtype,\n",
    "        load_in_4bit = load_in_4bit,\n",
    "        token = \"<YOUR HF TOKEN>\", # use one if using gated models like meta-llama/Llama-2-7b-hf\n",
    "    )"
   ]
  },
  {
   "cell_type": "code",
   "execution_count": null,
   "id": "674a19c5",
   "metadata": {},
   "outputs": [],
   "source": [
    "########## Model HyperParameters #######################"
   ]
  },
  {
   "cell_type": "code",
   "execution_count": 6,
   "id": "ee554110",
   "metadata": {},
   "outputs": [
    {
     "name": "stdout",
     "output_type": "stream",
     "text": [
      "GenerationConfig {\n",
      "  \"bos_token_id\": 128000,\n",
      "  \"do_sample\": true,\n",
      "  \"eos_token_id\": [\n",
      "    128001,\n",
      "    128008,\n",
      "    128009\n",
      "  ],\n",
      "  \"max_length\": 131072,\n",
      "  \"pad_token_id\": 128004,\n",
      "  \"temperature\": 0.6,\n",
      "  \"top_p\": 0.9\n",
      "}\n",
      "\n"
     ]
    }
   ],
   "source": [
    "gen_config = model.generation_config\n",
    "print(gen_config)"
   ]
  },
  {
   "cell_type": "code",
   "execution_count": null,
   "id": "86f64409",
   "metadata": {},
   "outputs": [],
   "source": [
    "################ Prompt Template ########################"
   ]
  },
  {
   "cell_type": "code",
   "execution_count": 7,
   "id": "84e279de",
   "metadata": {},
   "outputs": [],
   "source": [
    "my_prompt = \"\"\"Below is an instruction that describes a task, paired with an input that provides further context. Write a response that appropriately completes the request.\n",
    "\n",
    "### Instruction:\n",
    "{}\n",
    "\n",
    "### Input:\n",
    "{}\n",
    "\n",
    "### Response:\n",
    "{}\"\"\""
   ]
  },
  {
   "cell_type": "code",
   "execution_count": 10,
   "id": "df2b6a5b",
   "metadata": {},
   "outputs": [],
   "source": [
    "######### Politicians to Query For ######################\n",
    "all_entities = [['Wilfred', 'Elrington'], ['Ernst', 'Siemens'], ['Erich', 'Ludendorff'], ['Ernst', 'Röhm'], ['Daniel', 'Romanowitsch'], ['Franz', 'Müntefering'], ['Hans', 'Fritzsche'], ['Karl', 'Gebhardt'], ['Robert', 'Ley'], ['Otto', 'Braun'], ['Oskar', 'Dirlewanger'], ['Mikhail', 'Lomonosov'], ['Hanns', 'Schleyer'], ['Sandra', 'Perković'], ['Friedrich', 'von Humboldt'], ['Ludwig', 'Grimm'], ['Jean-Marie', 'Le Pen'], ['Zheng', 'Ying'], ['Rosa', 'Luxemburg'], ['Giacomo', 'Puccini'], ['Giuseppe', 'Verdi'], ['Jacques', 'Cartier'], ['Yury', 'Gagarin'], ['Lun', 'Sima'], ['Margaret', 'Roberts'], ['Jian', 'Yang'], ['Nina', 'Andreeva'], ['Irène', 'Joliot-Curie'], ['Willoughby', 'Newton'], ['Charles', 'Maurras'], ['Guy', 'Teissier'], ['William', 'Terry'], ['James', 'Gibson'], ['Allen', 'Sheppard'], ['Elisha', 'Meredith'], ['Henry', 'Alexander'], ['Todd', 'Platts'], ['David', 'Cairns'], ['Marit', 'Paulsen'], ['Michael', 'Shaw'], ['John', 'Gregg'], ['Leonid', 'Razvozzhayev'], ['Mohamed', 'Sheikh'], ['Albert', 'Grimaldi'], ['Jacqueline', 'Cochran'], ['V.', 'Kalairajan'], ['Louis', 'Aragon'], ['Volker', 'Beck'], ['Blaise', 'Compaoré'], ['Karl', 'Frank'], ['Danilo', 'Türk'], ['Dimitris', 'Christofias'], ['Ali', 'Khamenei'], ['Carlos', 'Funes'], ['Pierre', 'Nkurunziza'], ['Joseph', 'Fischer'], ['Ernst', 'Arndt'], ['Gustav', 'Noske'], ['Yahya', 'Jammeh'], ['Andry', 'Rajoelina'], ['Thomas', 'de Maizière'], ['Emomali', 'Rakhmonov'], ['Yoweri', 'Museveni'], ['Michael', 'Higgins'], ['Traian', 'Băsescu'], ['Jacob', 'Zuma'], ['Toomas', 'Ilves'], ['Abdullah', 'House of Saud'], ['Bamir', 'Topi'], ['Hans-Gert', 'Pöttering'], ['Karolos', 'Papoulias'], ['Jalal', 'Talabani'], ['Abdelaziz', 'Bouteflika'], ['Erich', 'Mielke'], ['Juan Manuel', 'Santos'], ['Sihamoni', 'Norodom'], ['Laura', 'Chinchilla'], ['Otto', 'Gessler']]"
   ]
  },
  {
   "cell_type": "code",
   "execution_count": 13,
   "id": "0f3109d9",
   "metadata": {},
   "outputs": [
    {
     "name": "stderr",
     "output_type": "stream",
     "text": [
      "  0%|          | 0/78 [00:00<?, ?it/s]"
     ]
    },
    {
     "name": "stdout",
     "output_type": "stream",
     "text": [
      "Your are querying for: Wilfred Elrington\n",
      "Target Collection Is: politician_json_files\n",
      "Chroma Retrieval Time: 6.9510 seconds\n",
      "Number of Tokens in Input: 595\n",
      "Number of Tokens in output: 964\n",
      "Article Generation Time: 38.7990 seconds\n"
     ]
    },
    {
     "name": "stderr",
     "output_type": "stream",
     "text": [
      "  1%|▏         | 1/78 [00:48<1:02:20, 48.58s/it]"
     ]
    },
    {
     "name": "stdout",
     "output_type": "stream",
     "text": [
      "Your document is Saved to Chroma\n",
      "Execution time: 2.8246 seconds\n",
      "Your are querying for: Ernst Siemens\n",
      "Target Collection Is: politician_json_files\n",
      "Chroma Retrieval Time: 1.5420 seconds\n",
      "Number of Tokens in Input: 2173\n",
      "Number of Tokens in output: 2758\n",
      "Article Generation Time: 64.4814 seconds\n"
     ]
    },
    {
     "name": "stderr",
     "output_type": "stream",
     "text": [
      "  3%|▎         | 2/78 [01:56<1:15:55, 59.94s/it]"
     ]
    },
    {
     "name": "stdout",
     "output_type": "stream",
     "text": [
      "Your document is Saved to Chroma\n",
      "Execution time: 1.8598 seconds\n",
      "Your are querying for: Erich Ludendorff\n"
     ]
    },
    {
     "name": "stderr",
     "output_type": "stream",
     "text": [
      "  4%|▍         | 3/78 [01:58<41:46, 33.42s/it]  "
     ]
    },
    {
     "name": "stdout",
     "output_type": "stream",
     "text": [
      "Target Collection Is: politician_json_files\n",
      "Chroma Retrieval Time: 1.8468 seconds\n",
      "Error parsing JSON: ':' expected after dictionary key (<unknown>, line 1)\n",
      "Your are querying for: Ernst Röhm\n",
      "Target Collection Is: politician_json_files\n",
      "Chroma Retrieval Time: 1.2410 seconds\n",
      "Number of Tokens in Input: 1455\n",
      "Number of Tokens in output: 2016\n",
      "Article Generation Time: 57.8705 seconds\n"
     ]
    },
    {
     "name": "stderr",
     "output_type": "stream",
     "text": [
      "  5%|▌         | 4/78 [02:59<54:52, 44.49s/it]"
     ]
    },
    {
     "name": "stdout",
     "output_type": "stream",
     "text": [
      "Your document is Saved to Chroma\n",
      "Execution time: 2.3557 seconds\n",
      "Your are querying for: Daniel Romanowitsch\n",
      "Target Collection Is: politician_json_files\n",
      "Chroma Retrieval Time: 3.9982 seconds\n",
      "Number of Tokens in Input: 1089\n",
      "Number of Tokens in output: 1414\n",
      "Article Generation Time: 32.2386 seconds\n"
     ]
    },
    {
     "name": "stderr",
     "output_type": "stream",
     "text": [
      "  6%|▋         | 5/78 [03:37<51:05, 42.00s/it]"
     ]
    },
    {
     "name": "stdout",
     "output_type": "stream",
     "text": [
      "Your document is Saved to Chroma\n",
      "Execution time: 1.3386 seconds\n",
      "Your are querying for: Franz Müntefering\n",
      "Target Collection Is: politician_json_files\n",
      "Chroma Retrieval Time: 2.0747 seconds\n",
      "Number of Tokens in Input: 1396\n",
      "Number of Tokens in output: 9588\n",
      "Article Generation Time: 1082.5097 seconds\n"
     ]
    },
    {
     "name": "stderr",
     "output_type": "stream",
     "text": [
      "  8%|▊         | 6/78 [21:43<7:56:34, 397.14s/it]"
     ]
    },
    {
     "name": "stdout",
     "output_type": "stream",
     "text": [
      "Your document is Saved to Chroma\n",
      "Execution time: 1.9459 seconds\n",
      "Your are querying for: Hans Fritzsche\n",
      "Target Collection Is: politician_json_files\n",
      "Chroma Retrieval Time: 1.3997 seconds\n",
      "Number of Tokens in Input: 1015\n",
      "Number of Tokens in output: 1499\n",
      "Article Generation Time: 47.4318 seconds\n"
     ]
    },
    {
     "name": "stderr",
     "output_type": "stream",
     "text": [
      "  9%|▉         | 7/78 [22:34<5:36:01, 283.97s/it]"
     ]
    },
    {
     "name": "stdout",
     "output_type": "stream",
     "text": [
      "Your document is Saved to Chroma\n",
      "Execution time: 2.1420 seconds\n",
      "Your are querying for: Karl Gebhardt\n",
      "Target Collection Is: politician_json_files\n",
      "Chroma Retrieval Time: 1.7261 seconds\n",
      "Number of Tokens in Input: 1499\n",
      "Number of Tokens in output: 2216\n",
      "Article Generation Time: 74.0076 seconds\n"
     ]
    },
    {
     "name": "stderr",
     "output_type": "stream",
     "text": [
      " 10%|█         | 8/78 [23:52<4:14:38, 218.27s/it]"
     ]
    },
    {
     "name": "stdout",
     "output_type": "stream",
     "text": [
      "Your document is Saved to Chroma\n",
      "Execution time: 1.8449 seconds\n",
      "Your are querying for: Robert Ley\n",
      "Target Collection Is: politician_json_files\n",
      "Chroma Retrieval Time: 1.3407 seconds\n",
      "Number of Tokens in Input: 1267\n",
      "Number of Tokens in output: 1792\n",
      "Article Generation Time: 54.0380 seconds\n"
     ]
    },
    {
     "name": "stderr",
     "output_type": "stream",
     "text": [
      " 12%|█▏        | 9/78 [24:50<3:13:26, 168.21s/it]"
     ]
    },
    {
     "name": "stdout",
     "output_type": "stream",
     "text": [
      "Your document is Saved to Chroma\n",
      "Execution time: 2.7800 seconds\n",
      "Your are querying for: Otto Braun\n",
      "Target Collection Is: politician_json_files\n",
      "Chroma Retrieval Time: 1.7375 seconds\n",
      "Number of Tokens in Input: 1027\n",
      "Number of Tokens in output: 1473\n",
      "Article Generation Time: 44.4504 seconds\n"
     ]
    },
    {
     "name": "stderr",
     "output_type": "stream",
     "text": [
      " 13%|█▎        | 10/78 [25:38<2:28:30, 131.04s/it]"
     ]
    },
    {
     "name": "stdout",
     "output_type": "stream",
     "text": [
      "Your document is Saved to Chroma\n",
      "Execution time: 1.6182 seconds\n",
      "Your are querying for: Oskar Dirlewanger\n"
     ]
    },
    {
     "name": "stderr",
     "output_type": "stream",
     "text": [
      " 14%|█▍        | 11/78 [25:40<1:42:14, 91.57s/it] "
     ]
    },
    {
     "name": "stdout",
     "output_type": "stream",
     "text": [
      "Target Collection Is: politician_json_files\n",
      "Chroma Retrieval Time: 2.0503 seconds\n",
      "Error parsing JSON: invalid character '–' (U+2013) (<unknown>, line 1)\n",
      "Your are querying for: Mikhail Lomonosov\n",
      "Target Collection Is: politician_json_files\n",
      "Chroma Retrieval Time: 1.6508 seconds\n",
      "Number of Tokens in Input: 2398\n",
      "Number of Tokens in output: 2864\n",
      "Article Generation Time: 51.8922 seconds\n"
     ]
    },
    {
     "name": "stderr",
     "output_type": "stream",
     "text": [
      " 15%|█▌        | 12/78 [26:35<1:28:36, 80.56s/it]"
     ]
    },
    {
     "name": "stdout",
     "output_type": "stream",
     "text": [
      "Your document is Saved to Chroma\n",
      "Execution time: 1.8398 seconds\n",
      "Your are querying for: Hanns Schleyer\n",
      "Target Collection Is: politician_json_files\n",
      "Chroma Retrieval Time: 1.6183 seconds\n",
      "Number of Tokens in Input: 1205\n",
      "Number of Tokens in output: 1736\n",
      "Article Generation Time: 53.2307 seconds\n"
     ]
    },
    {
     "name": "stderr",
     "output_type": "stream",
     "text": [
      " 17%|█▋        | 13/78 [27:32<1:19:16, 73.17s/it]"
     ]
    },
    {
     "name": "stdout",
     "output_type": "stream",
     "text": [
      "Your document is Saved to Chroma\n",
      "Execution time: 1.3165 seconds\n",
      "Your are querying for: Sandra Perković\n"
     ]
    },
    {
     "name": "stderr",
     "output_type": "stream",
     "text": [
      " 18%|█▊        | 14/78 [27:34<55:09, 51.72s/it]  "
     ]
    },
    {
     "name": "stdout",
     "output_type": "stream",
     "text": [
      "Target Collection Is: politician_json_files\n",
      "Chroma Retrieval Time: 2.1346 seconds\n",
      "Error parsing JSON: '{' was never closed (<unknown>, line 1)\n",
      "Your are querying for: Friedrich von Humboldt\n",
      "Target Collection Is: politician_json_files\n",
      "Chroma Retrieval Time: 1.6128 seconds\n",
      "Number of Tokens in Input: 3577\n",
      "Number of Tokens in output: 4391\n",
      "Article Generation Time: 99.9863 seconds\n"
     ]
    },
    {
     "name": "stderr",
     "output_type": "stream",
     "text": [
      " 19%|█▉        | 15/78 [29:17<1:10:36, 67.24s/it]"
     ]
    },
    {
     "name": "stdout",
     "output_type": "stream",
     "text": [
      "Your document is Saved to Chroma\n",
      "Execution time: 1.6217 seconds\n",
      "Your are querying for: Ludwig Grimm\n"
     ]
    },
    {
     "name": "stderr",
     "output_type": "stream",
     "text": [
      " 21%|██        | 16/78 [29:19<49:14, 47.66s/it]  "
     ]
    },
    {
     "name": "stdout",
     "output_type": "stream",
     "text": [
      "Target Collection Is: politician_json_files\n",
      "Chroma Retrieval Time: 2.1801 seconds\n",
      "Error parsing JSON: '{' was never closed (<unknown>, line 1)\n",
      "Your are querying for: Jean-Marie Le Pen\n"
     ]
    },
    {
     "name": "stderr",
     "output_type": "stream",
     "text": [
      " 22%|██▏       | 17/78 [29:21<34:23, 33.82s/it]"
     ]
    },
    {
     "name": "stdout",
     "output_type": "stream",
     "text": [
      "Target Collection Is: politician_json_files\n",
      "Chroma Retrieval Time: 1.6456 seconds\n",
      "Error parsing JSON: '{' was never closed (<unknown>, line 1)\n",
      "Your are querying for: Zheng Ying\n"
     ]
    },
    {
     "name": "stderr",
     "output_type": "stream",
     "text": [
      " 23%|██▎       | 18/78 [29:22<24:05, 24.09s/it]"
     ]
    },
    {
     "name": "stdout",
     "output_type": "stream",
     "text": [
      "Target Collection Is: politician_json_files\n",
      "Chroma Retrieval Time: 1.4435 seconds\n",
      "Error parsing JSON: '{' was never closed (<unknown>, line 1)\n",
      "Your are querying for: Rosa Luxemburg\n"
     ]
    },
    {
     "name": "stderr",
     "output_type": "stream",
     "text": [
      " 24%|██▍       | 19/78 [29:24<17:13, 17.52s/it]"
     ]
    },
    {
     "name": "stdout",
     "output_type": "stream",
     "text": [
      "Target Collection Is: politician_json_files\n",
      "Chroma Retrieval Time: 2.2134 seconds\n",
      "Error parsing JSON: closing parenthesis '}' does not match opening parenthesis '[' (<unknown>, line 1)\n",
      "Your are querying for: Giacomo Puccini\n",
      "Target Collection Is: politician_json_files\n",
      "Chroma Retrieval Time: 1.7496 seconds\n",
      "Number of Tokens in Input: 2382\n",
      "Number of Tokens in output: 2944\n",
      "Article Generation Time: 62.4297 seconds\n"
     ]
    },
    {
     "name": "stderr",
     "output_type": "stream",
     "text": [
      " 26%|██▌       | 20/78 [30:30<30:59, 32.06s/it]"
     ]
    },
    {
     "name": "stdout",
     "output_type": "stream",
     "text": [
      "Your document is Saved to Chroma\n",
      "Execution time: 1.7748 seconds\n",
      "Your are querying for: Giuseppe Verdi\n",
      "Target Collection Is: politician_json_files\n",
      "Chroma Retrieval Time: 1.8314 seconds\n",
      "Number of Tokens in Input: 3112\n",
      "Number of Tokens in output: 3706\n",
      "Article Generation Time: 67.9967 seconds\n"
     ]
    },
    {
     "name": "stderr",
     "output_type": "stream",
     "text": [
      " 27%|██▋       | 21/78 [31:42<41:36, 43.80s/it]"
     ]
    },
    {
     "name": "stdout",
     "output_type": "stream",
     "text": [
      "Your document is Saved to Chroma\n",
      "Execution time: 1.3359 seconds\n",
      "Your are querying for: Jacques Cartier\n",
      "Target Collection Is: politician_json_files\n",
      "Chroma Retrieval Time: 2.0937 seconds\n",
      "Number of Tokens in Input: 1364\n",
      "Number of Tokens in output: 1968\n",
      "Article Generation Time: 61.5806 seconds\n"
     ]
    },
    {
     "name": "stderr",
     "output_type": "stream",
     "text": [
      " 28%|██▊       | 22/78 [32:47<47:00, 50.37s/it]"
     ]
    },
    {
     "name": "stdout",
     "output_type": "stream",
     "text": [
      "Your document is Saved to Chroma\n",
      "Execution time: 2.0135 seconds\n",
      "Your are querying for: Yury Gagarin\n",
      "Target Collection Is: politician_json_files\n",
      "Chroma Retrieval Time: 1.2527 seconds\n",
      "Number of Tokens in Input: 2283\n",
      "Number of Tokens in output: 2860\n",
      "Article Generation Time: 63.8300 seconds\n"
     ]
    },
    {
     "name": "stderr",
     "output_type": "stream",
     "text": [
      " 29%|██▉       | 23/78 [33:54<50:48, 55.43s/it]"
     ]
    },
    {
     "name": "stdout",
     "output_type": "stream",
     "text": [
      "Your document is Saved to Chroma\n",
      "Execution time: 2.1502 seconds\n",
      "Your are querying for: Lun Sima\n",
      "Target Collection Is: politician_json_files\n",
      "Chroma Retrieval Time: 1.6757 seconds\n",
      "Number of Tokens in Input: 666\n",
      "Number of Tokens in output: 1072\n",
      "Article Generation Time: 38.1510 seconds\n"
     ]
    },
    {
     "name": "stderr",
     "output_type": "stream",
     "text": [
      " 31%|███       | 24/78 [34:36<46:10, 51.31s/it]"
     ]
    },
    {
     "name": "stdout",
     "output_type": "stream",
     "text": [
      "Your document is Saved to Chroma\n",
      "Execution time: 1.8632 seconds\n",
      "Your are querying for: Margaret Roberts\n"
     ]
    },
    {
     "name": "stderr",
     "output_type": "stream",
     "text": [
      " 32%|███▏      | 25/78 [34:38<32:11, 36.45s/it]"
     ]
    },
    {
     "name": "stdout",
     "output_type": "stream",
     "text": [
      "Target Collection Is: politician_json_files\n",
      "Chroma Retrieval Time: 1.7933 seconds\n",
      "Error parsing JSON: invalid character '०' (U+0966) (<unknown>, line 1)\n",
      "Your are querying for: Jian Yang\n",
      "Target Collection Is: politician_json_files\n",
      "Chroma Retrieval Time: 1.3095 seconds\n",
      "Number of Tokens in Input: 1055\n",
      "Number of Tokens in output: 9247\n",
      "Article Generation Time: 1067.0232 seconds\n"
     ]
    },
    {
     "name": "stderr",
     "output_type": "stream",
     "text": [
      " 33%|███▎      | 26/78 [52:36<5:02:29, 349.02s/it]"
     ]
    },
    {
     "name": "stdout",
     "output_type": "stream",
     "text": [
      "Your document is Saved to Chroma\n",
      "Execution time: 9.9148 seconds\n",
      "Your are querying for: Nina Andreeva\n",
      "Target Collection Is: politician_json_files\n",
      "Chroma Retrieval Time: 1.6427 seconds\n",
      "Number of Tokens in Input: 817\n",
      "Number of Tokens in output: 1123\n",
      "Article Generation Time: 29.4209 seconds\n"
     ]
    },
    {
     "name": "stderr",
     "output_type": "stream",
     "text": [
      " 35%|███▍      | 27/78 [53:09<3:35:56, 254.05s/it]"
     ]
    },
    {
     "name": "stdout",
     "output_type": "stream",
     "text": [
      "Your document is Saved to Chroma\n",
      "Execution time: 1.3920 seconds\n",
      "Your are querying for: Irène Joliot-Curie\n"
     ]
    },
    {
     "name": "stderr",
     "output_type": "stream",
     "text": [
      " 36%|███▌      | 28/78 [53:11<2:28:41, 178.44s/it]"
     ]
    },
    {
     "name": "stdout",
     "output_type": "stream",
     "text": [
      "Target Collection Is: politician_json_files\n",
      "Chroma Retrieval Time: 2.0361 seconds\n",
      "Error parsing JSON: '{' was never closed (<unknown>, line 1)\n",
      "Your are querying for: Willoughby Newton\n",
      "Target Collection Is: politician_json_files\n",
      "Chroma Retrieval Time: 1.6891 seconds\n",
      "Number of Tokens in Input: 780\n",
      "Number of Tokens in output: 1219\n",
      "Article Generation Time: 41.9322 seconds\n"
     ]
    },
    {
     "name": "stderr",
     "output_type": "stream",
     "text": [
      " 37%|███▋      | 29/78 [53:56<1:53:08, 138.54s/it]"
     ]
    },
    {
     "name": "stdout",
     "output_type": "stream",
     "text": [
      "Your document is Saved to Chroma\n",
      "Execution time: 1.8202 seconds\n",
      "Your are querying for: Charles Maurras\n"
     ]
    },
    {
     "name": "stderr",
     "output_type": "stream",
     "text": [
      " 38%|███▊      | 30/78 [53:58<1:17:58, 97.47s/it] "
     ]
    },
    {
     "name": "stdout",
     "output_type": "stream",
     "text": [
      "Target Collection Is: politician_json_files\n",
      "Chroma Retrieval Time: 1.6532 seconds\n",
      "Error parsing JSON: closing parenthesis '}' does not match opening parenthesis '[' (<unknown>, line 1)\n",
      "Your are querying for: Guy Teissier\n",
      "Target Collection Is: politician_json_files\n",
      "Chroma Retrieval Time: 1.2572 seconds\n",
      "Number of Tokens in Input: 1052\n",
      "Number of Tokens in output: 1595\n",
      "Article Generation Time: 53.6938 seconds\n"
     ]
    },
    {
     "name": "stderr",
     "output_type": "stream",
     "text": [
      " 40%|███▉      | 31/78 [54:55<1:06:52, 85.37s/it]"
     ]
    },
    {
     "name": "stdout",
     "output_type": "stream",
     "text": [
      "Your document is Saved to Chroma\n",
      "Execution time: 2.1902 seconds\n",
      "Your are querying for: William Terry\n",
      "Target Collection Is: politician_json_files\n",
      "Chroma Retrieval Time: 1.7778 seconds\n",
      "Number of Tokens in Input: 790\n",
      "Number of Tokens in output: 1167\n",
      "Article Generation Time: 36.1119 seconds\n"
     ]
    },
    {
     "name": "stderr",
     "output_type": "stream",
     "text": [
      " 41%|████      | 32/78 [55:34<54:55, 71.64s/it]  "
     ]
    },
    {
     "name": "stdout",
     "output_type": "stream",
     "text": [
      "Your document is Saved to Chroma\n",
      "Execution time: 1.6946 seconds\n",
      "Your are querying for: James Gibson\n",
      "Target Collection Is: politician_json_files\n",
      "Chroma Retrieval Time: 1.3619 seconds\n",
      "Number of Tokens in Input: 638\n",
      "Number of Tokens in output: 827\n",
      "Article Generation Time: 17.8153 seconds\n"
     ]
    },
    {
     "name": "stderr",
     "output_type": "stream",
     "text": [
      " 42%|████▏     | 33/78 [55:56<42:23, 56.52s/it]"
     ]
    },
    {
     "name": "stdout",
     "output_type": "stream",
     "text": [
      "Your document is Saved to Chroma\n",
      "Execution time: 2.0719 seconds\n",
      "Your are querying for: Allen Sheppard\n",
      "Target Collection Is: politician_json_files\n",
      "Chroma Retrieval Time: 1.7334 seconds\n",
      "Number of Tokens in Input: 773\n",
      "Number of Tokens in output: 1246\n",
      "Article Generation Time: 45.2561 seconds\n"
     ]
    },
    {
     "name": "stderr",
     "output_type": "stream",
     "text": [
      " 44%|████▎     | 34/78 [56:44<39:37, 54.04s/it]"
     ]
    },
    {
     "name": "stdout",
     "output_type": "stream",
     "text": [
      "Your document is Saved to Chroma\n",
      "Execution time: 1.2591 seconds\n",
      "Your are querying for: Elisha Meredith\n",
      "Target Collection Is: politician_json_files\n",
      "Chroma Retrieval Time: 2.0768 seconds\n",
      "Number of Tokens in Input: 757\n",
      "Number of Tokens in output: 992\n",
      "Article Generation Time: 22.4526 seconds\n"
     ]
    },
    {
     "name": "stderr",
     "output_type": "stream",
     "text": [
      " 45%|████▍     | 35/78 [57:11<32:49, 45.80s/it]"
     ]
    },
    {
     "name": "stdout",
     "output_type": "stream",
     "text": [
      "Your document is Saved to Chroma\n",
      "Execution time: 2.0611 seconds\n",
      "Your are querying for: Henry Alexander\n",
      "Target Collection Is: politician_json_files\n",
      "Chroma Retrieval Time: 1.7969 seconds\n",
      "Number of Tokens in Input: 515\n",
      "Number of Tokens in output: 973\n",
      "Article Generation Time: 42.2644 seconds\n"
     ]
    },
    {
     "name": "stderr",
     "output_type": "stream",
     "text": [
      " 46%|████▌     | 36/78 [57:56<31:57, 45.66s/it]"
     ]
    },
    {
     "name": "stdout",
     "output_type": "stream",
     "text": [
      "Your document is Saved to Chroma\n",
      "Execution time: 1.2524 seconds\n",
      "Your are querying for: Todd Platts\n",
      "Target Collection Is: politician_json_files\n",
      "Chroma Retrieval Time: 2.0648 seconds\n",
      "Number of Tokens in Input: 849\n",
      "Number of Tokens in output: 1517\n",
      "Article Generation Time: 64.8222 seconds\n"
     ]
    },
    {
     "name": "stderr",
     "output_type": "stream",
     "text": [
      " 47%|████▋     | 37/78 [59:04<35:48, 52.41s/it]"
     ]
    },
    {
     "name": "stdout",
     "output_type": "stream",
     "text": [
      "Your document is Saved to Chroma\n",
      "Execution time: 1.2773 seconds\n",
      "Your are querying for: David Cairns\n",
      "Target Collection Is: politician_json_files\n",
      "Chroma Retrieval Time: 2.3048 seconds\n",
      "Number of Tokens in Input: 929\n",
      "Number of Tokens in output: 1366\n",
      "Article Generation Time: 42.6520 seconds\n"
     ]
    },
    {
     "name": "stderr",
     "output_type": "stream",
     "text": [
      " 49%|████▊     | 38/78 [59:51<33:47, 50.69s/it]"
     ]
    },
    {
     "name": "stdout",
     "output_type": "stream",
     "text": [
      "Your document is Saved to Chroma\n",
      "Execution time: 1.7330 seconds\n",
      "Your are querying for: Marit Paulsen\n",
      "Target Collection Is: politician_json_files\n",
      "Chroma Retrieval Time: 1.7108 seconds\n",
      "Number of Tokens in Input: 975\n",
      "Number of Tokens in output: 1227\n",
      "Article Generation Time: 24.8789 seconds\n"
     ]
    },
    {
     "name": "stderr",
     "output_type": "stream",
     "text": [
      " 50%|█████     | 39/78 [1:00:19<28:30, 43.87s/it]"
     ]
    },
    {
     "name": "stdout",
     "output_type": "stream",
     "text": [
      "Your document is Saved to Chroma\n",
      "Execution time: 1.3396 seconds\n",
      "Your are querying for: Michael Shaw\n",
      "Target Collection Is: politician_json_files\n",
      "Chroma Retrieval Time: 2.0855 seconds\n",
      "Number of Tokens in Input: 1268\n",
      "Number of Tokens in output: 1556\n",
      "Article Generation Time: 29.2582 seconds\n"
     ]
    },
    {
     "name": "stderr",
     "output_type": "stream",
     "text": [
      " 51%|█████▏    | 40/78 [1:00:52<25:45, 40.66s/it]"
     ]
    },
    {
     "name": "stdout",
     "output_type": "stream",
     "text": [
      "Your document is Saved to Chroma\n",
      "Execution time: 1.8373 seconds\n",
      "Your are querying for: John Gregg\n",
      "Target Collection Is: politician_json_files\n",
      "Chroma Retrieval Time: 1.3037 seconds\n",
      "Number of Tokens in Input: 739\n",
      "Number of Tokens in output: 1100\n",
      "Article Generation Time: 34.3015 seconds\n"
     ]
    },
    {
     "name": "stderr",
     "output_type": "stream",
     "text": [
      " 53%|█████▎    | 41/78 [1:01:30<24:31, 39.76s/it]"
     ]
    },
    {
     "name": "stdout",
     "output_type": "stream",
     "text": [
      "Your document is Saved to Chroma\n",
      "Execution time: 2.0452 seconds\n",
      "Your are querying for: Leonid Razvozzhayev\n",
      "Target Collection Is: politician_json_files\n",
      "Chroma Retrieval Time: 1.6294 seconds\n",
      "Number of Tokens in Input: 580\n",
      "Number of Tokens in output: 1141\n",
      "Article Generation Time: 52.4120 seconds\n"
     ]
    },
    {
     "name": "stderr",
     "output_type": "stream",
     "text": [
      " 54%|█████▍    | 42/78 [1:02:25<26:39, 44.44s/it]"
     ]
    },
    {
     "name": "stdout",
     "output_type": "stream",
     "text": [
      "Your document is Saved to Chroma\n",
      "Execution time: 1.3078 seconds\n",
      "Your are querying for: Mohamed Sheikh\n",
      "Target Collection Is: politician_json_files\n",
      "Chroma Retrieval Time: 2.0395 seconds\n",
      "Number of Tokens in Input: 691\n",
      "Number of Tokens in output: 1070\n",
      "Article Generation Time: 35.8089 seconds\n"
     ]
    },
    {
     "name": "stderr",
     "output_type": "stream",
     "text": [
      " 55%|█████▌    | 43/78 [1:03:04<25:03, 42.96s/it]"
     ]
    },
    {
     "name": "stdout",
     "output_type": "stream",
     "text": [
      "Your document is Saved to Chroma\n",
      "Execution time: 1.6782 seconds\n",
      "Your are querying for: Albert Grimaldi\n"
     ]
    },
    {
     "name": "stderr",
     "output_type": "stream",
     "text": [
      " 56%|█████▋    | 44/78 [1:03:06<17:18, 30.55s/it]"
     ]
    },
    {
     "name": "stdout",
     "output_type": "stream",
     "text": [
      "Target Collection Is: politician_json_files\n",
      "Chroma Retrieval Time: 1.5952 seconds\n",
      "Error parsing JSON: '{' was never closed (<unknown>, line 1)\n",
      "Your are querying for: Jacqueline Cochran\n",
      "Target Collection Is: politician_json_files\n",
      "Chroma Retrieval Time: 1.2448 seconds\n",
      "Number of Tokens in Input: 1325\n",
      "Number of Tokens in output: 2268\n",
      "Article Generation Time: 96.9370 seconds\n"
     ]
    },
    {
     "name": "stderr",
     "output_type": "stream",
     "text": [
      " 58%|█████▊    | 45/78 [1:04:46<28:19, 51.49s/it]"
     ]
    },
    {
     "name": "stdout",
     "output_type": "stream",
     "text": [
      "Your document is Saved to Chroma\n",
      "Execution time: 2.1453 seconds\n",
      "Your are querying for: V. Kalairajan\n",
      "Target Collection Is: politician_json_files\n",
      "Chroma Retrieval Time: 1.6732 seconds\n",
      "Number of Tokens in Input: 419\n",
      "Number of Tokens in output: 1049\n",
      "Article Generation Time: 57.9656 seconds\n"
     ]
    },
    {
     "name": "stderr",
     "output_type": "stream",
     "text": [
      " 59%|█████▉    | 46/78 [1:05:48<29:04, 54.51s/it]"
     ]
    },
    {
     "name": "stdout",
     "output_type": "stream",
     "text": [
      "Your document is Saved to Chroma\n",
      "Execution time: 1.9386 seconds\n",
      "Your are querying for: Louis Aragon\n",
      "Target Collection Is: politician_json_files\n",
      "Chroma Retrieval Time: 1.6619 seconds\n",
      "Number of Tokens in Input: 1965\n",
      "Number of Tokens in output: 2546\n",
      "Article Generation Time: 62.8464 seconds\n"
     ]
    },
    {
     "name": "stderr",
     "output_type": "stream",
     "text": [
      " 60%|██████    | 47/78 [1:06:55<30:03, 58.18s/it]"
     ]
    },
    {
     "name": "stdout",
     "output_type": "stream",
     "text": [
      "Your document is Saved to Chroma\n",
      "Execution time: 2.2296 seconds\n",
      "Your are querying for: Volker Beck\n",
      "Target Collection Is: politician_json_files\n",
      "Chroma Retrieval Time: 1.6967 seconds\n",
      "Number of Tokens in Input: 1505\n",
      "Number of Tokens in output: 1850\n",
      "Article Generation Time: 35.9287 seconds\n"
     ]
    },
    {
     "name": "stderr",
     "output_type": "stream",
     "text": [
      " 62%|██████▏   | 48/78 [1:07:33<26:11, 52.38s/it]"
     ]
    },
    {
     "name": "stdout",
     "output_type": "stream",
     "text": [
      "Your document is Saved to Chroma\n",
      "Execution time: 1.2275 seconds\n",
      "Your are querying for: Blaise Compaoré\n",
      "Target Collection Is: politician_json_files\n",
      "Chroma Retrieval Time: 2.0262 seconds\n",
      "Number of Tokens in Input: 1184\n",
      "Number of Tokens in output: 1839\n",
      "Article Generation Time: 64.8821 seconds\n"
     ]
    },
    {
     "name": "stderr",
     "output_type": "stream",
     "text": [
      " 63%|██████▎   | 49/78 [1:08:42<27:40, 57.25s/it]"
     ]
    },
    {
     "name": "stdout",
     "output_type": "stream",
     "text": [
      "Your document is Saved to Chroma\n",
      "Execution time: 1.7044 seconds\n",
      "Your are querying for: Karl Frank\n",
      "Target Collection Is: politician_json_files\n",
      "Chroma Retrieval Time: 2.1247 seconds\n",
      "Number of Tokens in Input: 1500\n",
      "Number of Tokens in output: 1827\n",
      "Article Generation Time: 34.0109 seconds\n"
     ]
    },
    {
     "name": "stderr",
     "output_type": "stream",
     "text": [
      " 64%|██████▍   | 50/78 [1:09:20<23:58, 51.36s/it]"
     ]
    },
    {
     "name": "stdout",
     "output_type": "stream",
     "text": [
      "Your document is Saved to Chroma\n",
      "Execution time: 1.4649 seconds\n",
      "Your are querying for: Danilo Türk\n",
      "Target Collection Is: politician_json_files\n",
      "Chroma Retrieval Time: 2.0300 seconds\n",
      "Number of Tokens in Input: 1161\n",
      "Number of Tokens in output: 1682\n",
      "Article Generation Time: 52.3721 seconds\n"
     ]
    },
    {
     "name": "stderr",
     "output_type": "stream",
     "text": [
      " 65%|██████▌   | 51/78 [1:10:15<23:41, 52.67s/it]"
     ]
    },
    {
     "name": "stdout",
     "output_type": "stream",
     "text": [
      "Your document is Saved to Chroma\n",
      "Execution time: 1.3176 seconds\n",
      "Your are querying for: Dimitris Christofias\n",
      "Target Collection Is: politician_json_files\n",
      "Chroma Retrieval Time: 2.0004 seconds\n",
      "Number of Tokens in Input: 2461\n",
      "Number of Tokens in output: 3205\n",
      "Article Generation Time: 84.0429 seconds\n"
     ]
    },
    {
     "name": "stderr",
     "output_type": "stream",
     "text": [
      " 67%|██████▋   | 52/78 [1:11:43<27:23, 63.22s/it]"
     ]
    },
    {
     "name": "stdout",
     "output_type": "stream",
     "text": [
      "Your document is Saved to Chroma\n",
      "Execution time: 1.7898 seconds\n",
      "Your are querying for: Ali Khamenei\n"
     ]
    },
    {
     "name": "stderr",
     "output_type": "stream",
     "text": [
      " 68%|██████▊   | 53/78 [1:11:45<18:38, 44.75s/it]"
     ]
    },
    {
     "name": "stdout",
     "output_type": "stream",
     "text": [
      "Target Collection Is: politician_json_files\n",
      "Chroma Retrieval Time: 1.6487 seconds\n",
      "Error parsing JSON: '{' was never closed (<unknown>, line 1)\n",
      "Your are querying for: Carlos Funes\n",
      "Target Collection Is: politician_json_files\n",
      "Chroma Retrieval Time: 1.2990 seconds\n",
      "Number of Tokens in Input: 871\n",
      "Number of Tokens in output: 1212\n",
      "Article Generation Time: 33.0811 seconds\n"
     ]
    },
    {
     "name": "stderr",
     "output_type": "stream",
     "text": [
      " 69%|██████▉   | 54/78 [1:12:21<16:53, 42.25s/it]"
     ]
    },
    {
     "name": "stdout",
     "output_type": "stream",
     "text": [
      "Your document is Saved to Chroma\n",
      "Execution time: 2.0364 seconds\n",
      "Your are querying for: Pierre Nkurunziza\n"
     ]
    },
    {
     "name": "stderr",
     "output_type": "stream",
     "text": [
      " 71%|███████   | 55/78 [1:12:23<11:32, 30.13s/it]"
     ]
    },
    {
     "name": "stdout",
     "output_type": "stream",
     "text": [
      "Target Collection Is: politician_json_files\n",
      "Chroma Retrieval Time: 1.8415 seconds\n",
      "Error parsing JSON: '{' was never closed (<unknown>, line 1)\n",
      "Your are querying for: Joseph Fischer\n",
      "Target Collection Is: politician_json_files\n",
      "Chroma Retrieval Time: 1.6198 seconds\n",
      "Number of Tokens in Input: 1704\n",
      "Number of Tokens in output: 2755\n",
      "Article Generation Time: 109.3625 seconds\n"
     ]
    },
    {
     "name": "stderr",
     "output_type": "stream",
     "text": [
      " 72%|███████▏  | 56/78 [1:14:16<20:08, 54.91s/it]"
     ]
    },
    {
     "name": "stdout",
     "output_type": "stream",
     "text": [
      "Your document is Saved to Chroma\n",
      "Execution time: 1.7609 seconds\n",
      "Your are querying for: Ernst Arndt\n",
      "Target Collection Is: politician_json_files\n",
      "Chroma Retrieval Time: 1.6405 seconds\n",
      "Number of Tokens in Input: 1428\n",
      "Number of Tokens in output: 1827\n",
      "Article Generation Time: 41.2239 seconds\n"
     ]
    },
    {
     "name": "stderr",
     "output_type": "stream",
     "text": [
      " 73%|███████▎  | 57/78 [1:15:00<18:05, 51.67s/it]"
     ]
    },
    {
     "name": "stdout",
     "output_type": "stream",
     "text": [
      "Your document is Saved to Chroma\n",
      "Execution time: 1.2558 seconds\n",
      "Your are querying for: Gustav Noske\n",
      "Target Collection Is: politician_json_files\n",
      "Chroma Retrieval Time: 2.1068 seconds\n",
      "Number of Tokens in Input: 1032\n",
      "Number of Tokens in output: 1396\n",
      "Article Generation Time: 35.5038 seconds\n"
     ]
    },
    {
     "name": "stderr",
     "output_type": "stream",
     "text": [
      " 74%|███████▍  | 58/78 [1:15:39<15:59, 47.97s/it]"
     ]
    },
    {
     "name": "stdout",
     "output_type": "stream",
     "text": [
      "Your document is Saved to Chroma\n",
      "Execution time: 1.7248 seconds\n",
      "Your are querying for: Yahya Jammeh\n",
      "Target Collection Is: politician_json_files\n",
      "Chroma Retrieval Time: 1.2228 seconds\n",
      "Number of Tokens in Input: 1402\n",
      "Number of Tokens in output: 1914\n",
      "Article Generation Time: 52.6096 seconds\n"
     ]
    },
    {
     "name": "stderr",
     "output_type": "stream",
     "text": [
      " 76%|███████▌  | 59/78 [1:16:35<15:57, 50.38s/it]"
     ]
    },
    {
     "name": "stdout",
     "output_type": "stream",
     "text": [
      "Your document is Saved to Chroma\n",
      "Execution time: 2.1651 seconds\n",
      "Your are querying for: Andry Rajoelina\n",
      "Target Collection Is: politician_json_files\n",
      "Chroma Retrieval Time: 1.7199 seconds\n",
      "Number of Tokens in Input: 715\n",
      "Number of Tokens in output: 1120\n",
      "Article Generation Time: 38.4753 seconds\n"
     ]
    },
    {
     "name": "stderr",
     "output_type": "stream",
     "text": [
      " 77%|███████▋  | 60/78 [1:17:17<14:21, 47.85s/it]"
     ]
    },
    {
     "name": "stdout",
     "output_type": "stream",
     "text": [
      "Your document is Saved to Chroma\n",
      "Execution time: 1.7597 seconds\n",
      "Your are querying for: Thomas de Maizière\n"
     ]
    },
    {
     "name": "stderr",
     "output_type": "stream",
     "text": [
      " 78%|███████▊  | 61/78 [1:17:19<09:36, 33.89s/it]"
     ]
    },
    {
     "name": "stdout",
     "output_type": "stream",
     "text": [
      "Target Collection Is: politician_json_files\n",
      "Chroma Retrieval Time: 1.3216 seconds\n",
      "Error parsing JSON: leading zeros in decimal integer literals are not permitted; use an 0o prefix for octal integers (<unknown>, line 1)\n",
      "Your are querying for: Emomali Rakhmonov\n",
      "Target Collection Is: politician_json_files\n",
      "Chroma Retrieval Time: 2.1483 seconds\n",
      "Number of Tokens in Input: 1992\n",
      "Number of Tokens in output: 2747\n",
      "Article Generation Time: 79.6525 seconds\n"
     ]
    },
    {
     "name": "stderr",
     "output_type": "stream",
     "text": [
      " 79%|███████▉  | 62/78 [1:18:42<13:00, 48.79s/it]"
     ]
    },
    {
     "name": "stdout",
     "output_type": "stream",
     "text": [
      "Your document is Saved to Chroma\n",
      "Execution time: 1.7395 seconds\n",
      "Your are querying for: Yoweri Museveni\n",
      "Target Collection Is: politician_json_files\n",
      "Chroma Retrieval Time: 1.7168 seconds\n",
      "Number of Tokens in Input: 1883\n",
      "Number of Tokens in output: 2580\n",
      "Article Generation Time: 74.9634 seconds\n"
     ]
    },
    {
     "name": "stderr",
     "output_type": "stream",
     "text": [
      " 81%|████████  | 63/78 [1:20:01<14:25, 57.68s/it]"
     ]
    },
    {
     "name": "stdout",
     "output_type": "stream",
     "text": [
      "Your document is Saved to Chroma\n",
      "Execution time: 1.7416 seconds\n",
      "Your are querying for: Michael Higgins\n"
     ]
    },
    {
     "name": "stderr",
     "output_type": "stream",
     "text": [
      " 82%|████████▏ | 64/78 [1:20:03<09:34, 41.02s/it]"
     ]
    },
    {
     "name": "stdout",
     "output_type": "stream",
     "text": [
      "Target Collection Is: politician_json_files\n",
      "Chroma Retrieval Time: 2.1329 seconds\n",
      "Error parsing JSON: '{' was never closed (<unknown>, line 1)\n",
      "Your are querying for: Traian Băsescu\n"
     ]
    },
    {
     "name": "stderr",
     "output_type": "stream",
     "text": [
      " 83%|████████▎ | 65/78 [1:20:04<06:19, 29.23s/it]"
     ]
    },
    {
     "name": "stdout",
     "output_type": "stream",
     "text": [
      "Target Collection Is: politician_json_files\n",
      "Chroma Retrieval Time: 1.7312 seconds\n",
      "Error parsing JSON: '{' was never closed (<unknown>, line 1)\n",
      "Your are querying for: Jacob Zuma\n"
     ]
    },
    {
     "name": "stderr",
     "output_type": "stream",
     "text": [
      " 85%|████████▍ | 66/78 [1:20:06<04:10, 20.87s/it]"
     ]
    },
    {
     "name": "stdout",
     "output_type": "stream",
     "text": [
      "Target Collection Is: politician_json_files\n",
      "Chroma Retrieval Time: 1.3484 seconds\n",
      "Error parsing JSON: '{' was never closed (<unknown>, line 1)\n",
      "Your are querying for: Toomas Ilves\n",
      "Target Collection Is: politician_json_files\n",
      "Chroma Retrieval Time: 2.1216 seconds\n",
      "Number of Tokens in Input: 2289\n",
      "Number of Tokens in output: 2686\n",
      "Article Generation Time: 44.2181 seconds\n"
     ]
    },
    {
     "name": "stderr",
     "output_type": "stream",
     "text": [
      " 86%|████████▌ | 67/78 [1:20:54<05:19, 29.05s/it]"
     ]
    },
    {
     "name": "stdout",
     "output_type": "stream",
     "text": [
      "Your document is Saved to Chroma\n",
      "Execution time: 1.7923 seconds\n",
      "Your are querying for: Abdullah House of Saud\n"
     ]
    },
    {
     "name": "stderr",
     "output_type": "stream",
     "text": [
      " 87%|████████▋ | 68/78 [1:20:55<03:27, 20.70s/it]"
     ]
    },
    {
     "name": "stdout",
     "output_type": "stream",
     "text": [
      "Target Collection Is: politician_json_files\n",
      "Chroma Retrieval Time: 1.2369 seconds\n",
      "Error parsing JSON: '[' was never closed (<unknown>, line 1)\n",
      "Your are querying for: Bamir Topi\n",
      "Target Collection Is: politician_json_files\n",
      "Chroma Retrieval Time: 2.0778 seconds\n",
      "Number of Tokens in Input: 609\n",
      "Number of Tokens in output: 989\n",
      "Article Generation Time: 35.4266 seconds\n"
     ]
    },
    {
     "name": "stderr",
     "output_type": "stream",
     "text": [
      " 88%|████████▊ | 69/78 [1:21:34<03:56, 26.27s/it]"
     ]
    },
    {
     "name": "stdout",
     "output_type": "stream",
     "text": [
      "Your document is Saved to Chroma\n",
      "Execution time: 1.7580 seconds\n",
      "Your are querying for: Hans-Gert Pöttering\n",
      "Target Collection Is: politician_json_files\n",
      "Chroma Retrieval Time: 1.6962 seconds\n",
      "Number of Tokens in Input: 1617\n",
      "Number of Tokens in output: 1837\n",
      "Article Generation Time: 23.4991 seconds\n"
     ]
    },
    {
     "name": "stderr",
     "output_type": "stream",
     "text": [
      " 90%|████████▉ | 70/78 [1:22:02<03:31, 26.50s/it]"
     ]
    },
    {
     "name": "stdout",
     "output_type": "stream",
     "text": [
      "Your document is Saved to Chroma\n",
      "Execution time: 1.8266 seconds\n",
      "Your are querying for: Karolos Papoulias\n",
      "Target Collection Is: politician_json_files\n",
      "Chroma Retrieval Time: 2.2033 seconds\n",
      "Number of Tokens in Input: 1384\n",
      "Number of Tokens in output: 2019\n",
      "Article Generation Time: 63.9146 seconds\n"
     ]
    },
    {
     "name": "stderr",
     "output_type": "stream",
     "text": [
      " 91%|█████████ | 71/78 [1:23:10<04:33, 39.01s/it]"
     ]
    },
    {
     "name": "stdout",
     "output_type": "stream",
     "text": [
      "Your document is Saved to Chroma\n",
      "Execution time: 2.0837 seconds\n",
      "Your are querying for: Jalal Talabani\n",
      "Target Collection Is: politician_json_files\n",
      "Chroma Retrieval Time: 1.8216 seconds\n",
      "Number of Tokens in Input: 1090\n",
      "Number of Tokens in output: 1426\n",
      "Article Generation Time: 33.4849 seconds\n"
     ]
    },
    {
     "name": "stderr",
     "output_type": "stream",
     "text": [
      " 92%|█████████▏| 72/78 [1:23:47<03:50, 38.38s/it]"
     ]
    },
    {
     "name": "stdout",
     "output_type": "stream",
     "text": [
      "Your document is Saved to Chroma\n",
      "Execution time: 1.6187 seconds\n",
      "Your are querying for: Abdelaziz Bouteflika\n",
      "Target Collection Is: politician_json_files\n",
      "Chroma Retrieval Time: 1.6808 seconds\n",
      "Number of Tokens in Input: 2012\n",
      "Number of Tokens in output: 2169\n",
      "Article Generation Time: 17.8333 seconds\n"
     ]
    },
    {
     "name": "stderr",
     "output_type": "stream",
     "text": [
      " 94%|█████████▎| 73/78 [1:24:08<02:45, 33.13s/it]"
     ]
    },
    {
     "name": "stdout",
     "output_type": "stream",
     "text": [
      "Your document is Saved to Chroma\n",
      "Execution time: 1.3659 seconds\n",
      "Your are querying for: Erich Mielke\n",
      "Target Collection Is: politician_json_files\n",
      "Chroma Retrieval Time: 2.0412 seconds\n",
      "Number of Tokens in Input: 1577\n",
      "Number of Tokens in output: 2109\n",
      "Article Generation Time: 55.5968 seconds\n"
     ]
    },
    {
     "name": "stderr",
     "output_type": "stream",
     "text": [
      " 95%|█████████▍| 74/78 [1:25:07<02:44, 41.01s/it]"
     ]
    },
    {
     "name": "stdout",
     "output_type": "stream",
     "text": [
      "Your document is Saved to Chroma\n",
      "Execution time: 1.7570 seconds\n",
      "Your are querying for: Juan Manuel Santos\n"
     ]
    },
    {
     "name": "stderr",
     "output_type": "stream",
     "text": [
      " 96%|█████████▌| 75/78 [1:25:09<01:27, 29.24s/it]"
     ]
    },
    {
     "name": "stdout",
     "output_type": "stream",
     "text": [
      "Target Collection Is: politician_json_files\n",
      "Chroma Retrieval Time: 1.7591 seconds\n",
      "Error parsing JSON: '{' was never closed (<unknown>, line 1)\n",
      "Your are querying for: Sihamoni Norodom\n",
      "Target Collection Is: politician_json_files\n",
      "Chroma Retrieval Time: 1.2414 seconds\n",
      "Number of Tokens in Input: 1247\n",
      "Number of Tokens in output: 2046\n",
      "Article Generation Time: 81.4241 seconds\n"
     ]
    },
    {
     "name": "stderr",
     "output_type": "stream",
     "text": [
      " 97%|█████████▋| 76/78 [1:26:34<01:31, 45.94s/it]"
     ]
    },
    {
     "name": "stdout",
     "output_type": "stream",
     "text": [
      "Your document is Saved to Chroma\n",
      "Execution time: 2.2517 seconds\n",
      "Your are querying for: Laura Chinchilla\n",
      "Target Collection Is: politician_json_files\n",
      "Chroma Retrieval Time: 1.6502 seconds\n",
      "Number of Tokens in Input: 908\n",
      "Number of Tokens in output: 1640\n",
      "Article Generation Time: 71.8533 seconds\n"
     ]
    },
    {
     "name": "stderr",
     "output_type": "stream",
     "text": [
      " 99%|█████████▊| 77/78 [1:27:49<00:54, 54.66s/it]"
     ]
    },
    {
     "name": "stdout",
     "output_type": "stream",
     "text": [
      "Your document is Saved to Chroma\n",
      "Execution time: 1.5119 seconds\n",
      "Your are querying for: Otto Gessler\n",
      "Target Collection Is: politician_json_files\n",
      "Chroma Retrieval Time: 2.3097 seconds\n",
      "Number of Tokens in Input: 1104\n",
      "Number of Tokens in output: 1418\n",
      "Article Generation Time: 30.9411 seconds\n"
     ]
    },
    {
     "name": "stderr",
     "output_type": "stream",
     "text": [
      "100%|██████████| 78/78 [1:28:24<00:00, 68.00s/it]"
     ]
    },
    {
     "name": "stdout",
     "output_type": "stream",
     "text": [
      "Your document is Saved to Chroma\n",
      "Execution time: 1.9394 seconds\n"
     ]
    },
    {
     "name": "stderr",
     "output_type": "stream",
     "text": [
      "\n"
     ]
    }
   ],
   "source": [
    "import time\n",
    "import json\n",
    "import ast\n",
    "import time\n",
    "from tqdm import tqdm\n",
    "error = 0\n",
    "SAVE_TO_DISK = 1\n",
    "with open(\"Analysis_Article_Generation_Without_Template_v2.json\", \"w\") as f:\n",
    "    for entry in tqdm(all_entities):\n",
    "        first_name = entry[0]\n",
    "        last_name = entry[1]\n",
    "        entity_name = first_name + \" \" + last_name\n",
    "        print(\"Your are querying for: \"+ entity_name)\n",
    "    ################# Get JSON from Chroma Cache ###########################\n",
    "        start_time = time.time()\n",
    "        target_collection_name = occupation + \"_json_files\" \n",
    "        embeddings = SentenceTransformerEmbeddings(model_name=EMBEDDINGS_MODEL)\n",
    "        print(\"Target Collection Is: \" + target_collection_name)\n",
    "        chroma_db_from_disk = Chroma(persist_directory=CHROMA_PERSIST_DIRECTORY,                             \n",
    "                                    collection_name=target_collection_name,\n",
    "                                    embedding_function=embeddings)\n",
    "        results = chroma_db_from_disk.get(\n",
    "            where={\n",
    "                \"$and\": [\n",
    "                    {\"first_name\": first_name},\n",
    "                    {\"last_name\": last_name}\n",
    "                ]\n",
    "            },\n",
    "            include=[\"documents\", \"metadatas\"])\n",
    "        documents = [\n",
    "            Document(page_content=doc, metadata=meta)\n",
    "            for doc, meta in zip(results[\"documents\"], results[\"metadatas\"])\n",
    "        ]\n",
    "        end_time = time.time()\n",
    "        chroma_json_retrieval_time = end_time - start_time\n",
    "        print(f\"Chroma Retrieval Time: {chroma_json_retrieval_time:.4f} seconds\")\n",
    "        document = documents[0]\n",
    "        content = ast.literal_eval(document.page_content)[0]\n",
    "        response_start = content.index(\"### Response:\")\n",
    "        json_start = content.index(\"{\", response_start)\n",
    "        json_end = content.rindex(\"}\")\n",
    "        json_string = content[json_start:json_end+1]\n",
    "        try:\n",
    "            parsed_dict = ast.literal_eval(json_string)\n",
    "            json_data = json.dumps(parsed_dict, ensure_ascii=False, indent=2)\n",
    "            #print(json_data)\n",
    "        except (SyntaxError, ValueError) as e:\n",
    "            error += 1\n",
    "            print(f\"Error parsing JSON: {e}\")\n",
    "            continue\n",
    "    ################ Inference for Article Generation ######################\n",
    "        start_time = time.time()\n",
    "        with torch.no_grad():\n",
    "            FastLanguageModel.for_inference(model)\n",
    "            inputs = tokenizer(\n",
    "            [\n",
    "                my_prompt.format(\n",
    "                    f\"Generate an Article in Hindi Language for {entity_name} using the details given in the json string below for this person. Do not any other extra English text after the article.\", # instruction\n",
    "                    f\"JSON:\\n{json_data}\", # input\n",
    "                    \"\", # output - leave this blank for generation!\n",
    "                )\n",
    "            ], return_tensors = \"pt\").to(\"cuda\")\n",
    "            print(\"Number of Tokens in Input: \" + str(inputs['input_ids'].shape[1]))\n",
    "            outputs = model.generate(**inputs, max_new_tokens = 8192)\n",
    "            print(\"Number of Tokens in output: \" + str(outputs.shape[1]))\n",
    "            final_article = tokenizer.batch_decode(outputs)\n",
    "            #print(final_article)\n",
    "        end_time = time.time()\n",
    "        article_generation_time = end_time - start_time\n",
    "        print(f\"Article Generation Time: {article_generation_time:.4f} seconds\")\n",
    "    ################## CHROMA SAVE ############################\n",
    "        start_time = time.time()\n",
    "        target_collection_name = occupation + \"_generated_articles_without_template\"\n",
    "        if SAVE_TO_DISK == 1:\n",
    "            docs_2 = [Document(page_content=str(final_article), metadata={\"source\": f\"{occupation}_generated_articles_without_template\", \"first_name\": first_name, \"last_name\": last_name })]\n",
    "            text_splitter = CharacterTextSplitter(chunk_size=CHROMA_CHUNK_SIZE, chunk_overlap=0)\n",
    "            docs_2 = text_splitter.split_documents(docs_2)\n",
    "            embeddings = SentenceTransformerEmbeddings(model_name=EMBEDDINGS_MODEL)\n",
    "            local_chroma = Chroma.from_documents(docs_2, embeddings, persist_directory=CHROMA_PERSIST_DIRECTORY, collection_name=target_collection_name)\n",
    "            print(\"Your document is Saved to Chroma\")\n",
    "        else:\n",
    "            print(\"WARNING: YOU CHOOSE NOT TO SAVE THE ARTICLE TO CHROMA\") \n",
    "        end_time = time.time()\n",
    "        chroma_save_time = end_time - start_time\n",
    "        print(f\"Execution time: {chroma_save_time:.4f} seconds\")\n",
    "        op = { \"First Name\": first_name, \"Last Name\": last_name, \"Time for JSON Retrieval\": chroma_json_retrieval_time,\n",
    "              \"Time For Chroma Write\": chroma_save_time, \"Input Tokens\": inputs['input_ids'].shape[1], \n",
    "              \"Output Tokens\": outputs.shape[1], \"Time For Article Generation\": article_generation_time }\n",
    "        json.dump(op, f, indent=4)"
   ]
  }
 ],
 "metadata": {
  "kernelspec": {
   "display_name": "Python [conda env:.conda-myenv]",
   "language": "python",
   "name": "conda-env-.conda-myenv-py"
  },
  "language_info": {
   "codemirror_mode": {
    "name": "ipython",
    "version": 3
   },
   "file_extension": ".py",
   "mimetype": "text/x-python",
   "name": "python",
   "nbconvert_exporter": "python",
   "pygments_lexer": "ipython3",
   "version": "3.11.10"
  }
 },
 "nbformat": 4,
 "nbformat_minor": 5
}
