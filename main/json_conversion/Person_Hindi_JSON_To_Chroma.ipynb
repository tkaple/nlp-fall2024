{
 "cells": [
  {
   "cell_type": "code",
   "execution_count": null,
   "id": "7a006b60",
   "metadata": {},
   "outputs": [],
   "source": [
    "from langchain.docstore.document import Document\n",
    "from langchain_text_splitters import CharacterTextSplitter\n",
    "from langchain.embeddings import SentenceTransformerEmbeddings\n",
    "from langchain.vectorstores import Chroma"
   ]
  },
  {
   "cell_type": "code",
   "execution_count": null,
   "id": "d2eb6ae3",
   "metadata": {},
   "outputs": [],
   "source": [
    "import os\n",
    "os.environ[\"HF_HOME\"] = \"~/scratch/hf-cache\"\n",
    "from unsloth import FastLanguageModel\n",
    "import torch\n",
    "max_seq_length = 8192 # Choose any! We auto support RoPE Scaling internally!\n",
    "dtype = None # None for auto detection. Float16 for Tesla T4, V100, Bfloat16 for Ampere+\n",
    "load_in_4bit = True # Use 4bit quantization to reduce memory usage. Can be False.\n",
    "\n",
    "with torch.no_grad():\n",
    "    model, tokenizer = FastLanguageModel.from_pretrained(\n",
    "        model_name = \"unsloth/Meta-Llama-3.1-70B-Instruct-bnb-4bit\",\n",
    "        max_seq_length = max_seq_length,\n",
    "        dtype = dtype,\n",
    "        load_in_4bit = load_in_4bit,\n",
    "        token = \"<YOUR HF TOKEN>\", # use one if using gated models like meta-llama/Llama-2-7b-hf\n",
    "    )"
   ]
  },
  {
   "cell_type": "code",
   "execution_count": null,
   "id": "b56ce0b5",
   "metadata": {},
   "outputs": [],
   "source": [
    "!nvidia-smi"
   ]
  },
  {
   "cell_type": "code",
   "execution_count": null,
   "id": "2b6fe62e",
   "metadata": {},
   "outputs": [],
   "source": [
    "gen_config = model.generation_config\n",
    "\n",
    "# Print all hyperparameters\n",
    "print(gen_config)"
   ]
  },
  {
   "cell_type": "code",
   "execution_count": null,
   "id": "940d5a44",
   "metadata": {},
   "outputs": [],
   "source": [
    "my_prompt = \"\"\"Below is an instruction that describes a task, paired with an input that provides further context. Write a response that appropriately completes the request.\n",
    "\n",
    "### Instruction:\n",
    "{}\n",
    "\n",
    "### Input:\n",
    "{}\n",
    "\n",
    "### Response:\n",
    "{}\"\"\""
   ]
  },
  {
   "cell_type": "code",
   "execution_count": null,
   "id": "09a52ef3",
   "metadata": {},
   "outputs": [],
   "source": [
    "occupation = \"politician\"\n",
    "CHROMA_SOURCE = \"json_\" + occupation\n",
    "CHROMA_CHUNK_SIZE = 1000\n",
    "CHROMA_PERSIST_DIRECTORY = \"./chroma_db\"\n",
    "CHROMA_COLLECTION_NAME = occupation + \"_json_files\"\n",
    "target_collection_name = occupation + \"_json_files\" \n",
    "embeddings = SentenceTransformerEmbeddings(model_name=EMBEDDINGS_MODEL)\n",
    "EMBEDDINGS_MODEL = \"sentence-transformers/paraphrase-multilingual-MiniLM-L12-v2\"\n",
    "chroma_db_from_disk = Chroma(persist_directory=CHROMA_PERSIST_DIRECTORY,                             \n",
    "                            collection_name=target_collection_name,\n",
    "                            embedding_function=embeddings)"
   ]
  },
  {
   "cell_type": "code",
   "execution_count": null,
   "id": "5ec8cb06",
   "metadata": {},
   "outputs": [],
   "source": [
    "#chroma_db_from_disk._client.delete_collection(target_collection_name)"
   ]
  },
  {
   "cell_type": "code",
   "execution_count": null,
   "id": "4e94da38",
   "metadata": {},
   "outputs": [],
   "source": [
    "collections = chroma_db_from_disk._client.list_collections()\n",
    "collections"
   ]
  },
  {
   "cell_type": "code",
   "execution_count": null,
   "id": "91dce5ad",
   "metadata": {},
   "outputs": [],
   "source": [
    "from pymongo.mongo_client import MongoClient\n",
    "import json\n",
    "import re\n",
    "import time\n",
    "search_res_cleaned = []\n",
    "pattern = r'\\bID\\b'\n",
    "occupation = 'politician'\n",
    "uri = \"mongodb://localhost:27017/\"\n",
    "client = MongoClient(uri)\n",
    "db = client['wikidata_json']\n",
    "collection = db[occupation]\n",
    "gt_user = \"YOUR GT USER\"\n",
    "results = collection.find()\n",
    "count = 0\n",
    "for res in results:\n",
    "    cleaned_res = {}\n",
    "    for key, value in res.items():\n",
    "        if not re.search(pattern, key):\n",
    "            cleaned_res[key] = value\n",
    "    search_res_cleaned.append(cleaned_res) "
   ]
  },
  {
   "cell_type": "code",
   "execution_count": null,
   "id": "bf20b280",
   "metadata": {},
   "outputs": [],
   "source": [
    "import time\n",
    "import json\n",
    "final_stats = []\n",
    "with open(\"Analysis.txt\", \"w\") as f:\n",
    "    for i in range(0, len(search_res_cleaned)-100):\n",
    "        try:\n",
    "            last_name = search_res_cleaned[i][\"family name\"][0]\n",
    "        except:\n",
    "            last_name = \"\"\n",
    "\n",
    "        try:\n",
    "            first_name = search_res_cleaned[i][\"given name\"][0]\n",
    "        except:\n",
    "            first_name = \"\"\n",
    "\n",
    "        start_time = time.time()\n",
    "        with torch.no_grad():\n",
    "            FastLanguageModel.for_inference(model) # Enable native 2x faster inference\n",
    "            inputs = tokenizer(\n",
    "            [\n",
    "                my_prompt.format(\"\"\"Translate this English JSON File into a Hindi Language JSON File. \n",
    "                Do not any other extra text or note after the conversion of JSON. \n",
    "                Make sure everything in your response is in Hindi strictly and there are no additional NOTE afterwards\"\"\", # instruction\n",
    "                    search_res_cleaned[i], # input\n",
    "                    \"\", # output - leave this blank for generation!\n",
    "                )\n",
    "            ], return_tensors = \"pt\").to(\"cuda\")\n",
    "            print(\"Number of Tokens in Input: \" + str(inputs['input_ids'].shape[1]))\n",
    "            outputs = model.generate(**inputs, max_new_tokens = 4096, use_cache = True)\n",
    "            print(\"Number of Tokens in output: \" + str(outputs.shape[1]))\n",
    "            final_output = tokenizer.batch_decode(outputs)\n",
    "        end_time = time.time()\n",
    "        execution_time = end_time - start_time\n",
    "        print(f\"Execution time: {execution_time:.4f} seconds\")\n",
    "\n",
    "        start_time_2 = time.time()\n",
    "        docs = [Document(page_content=str(final_output), metadata={\"source\": CHROMA_SOURCE, \"first_name\": first_name, \"last_name\": last_name })]\n",
    "        text_splitter = CharacterTextSplitter(chunk_size=CHROMA_CHUNK_SIZE, chunk_overlap=0)\n",
    "        docs = text_splitter.split_documents(docs)\n",
    "        print(len(docs))\n",
    "        embeddings = SentenceTransformerEmbeddings(model_name=EMBEDDINGS_MODEL)\n",
    "        local_chroma = Chroma.from_documents(docs, embeddings, persist_directory=CHROMA_PERSIST_DIRECTORY, collection_name=CHROMA_COLLECTION_NAME)\n",
    "        end_time_2 = time.time()\n",
    "        execution_time_2 = end_time_2 - start_time_2\n",
    "        print(f\"Execution time: {execution_time_2:.4f} seconds\")\n",
    "\n",
    "        op = { \"First Name\": first_name, \"Last Name\": last_name, \"Time for JSON Conversion\": execution_time,\n",
    "              \"Time For Chroma Write\": execution_time_2, \"Input Tokens\": inputs['input_ids'].shape[1], \n",
    "              \"Output Tokens\": outputs.shape[1] }\n",
    "        json.dump(op, f, indent=4)"
   ]
  }
 ],
 "metadata": {
  "kernelspec": {
   "display_name": "Python [conda env:.conda-myenv]",
   "language": "python",
   "name": "conda-env-.conda-myenv-py"
  },
  "language_info": {
   "codemirror_mode": {
    "name": "ipython",
    "version": 3
   },
   "file_extension": ".py",
   "mimetype": "text/x-python",
   "name": "python",
   "nbconvert_exporter": "python",
   "pygments_lexer": "ipython3",
   "version": "3.11.10"
  }
 },
 "nbformat": 4,
 "nbformat_minor": 5
}
