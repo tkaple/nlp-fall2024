{
 "cells": [
  {
   "cell_type": "markdown",
   "metadata": {
    "editable": true,
    "slideshow": {
     "slide_type": ""
    },
    "tags": []
   },
   "source": [
    "#### 1. Importing Libraries"
   ]
  },
  {
   "cell_type": "code",
   "execution_count": 1,
   "metadata": {},
   "outputs": [],
   "source": [
    "import sys\n",
    "import requests\n",
    "import bs4\n",
    "import json\n",
    "import re\n",
    "import time\n",
    "from nltk.tokenize import sent_tokenize\n",
    "import re\n",
    "import os\n",
    "from urllib.parse import quote"
   ]
  },
  {
   "cell_type": "markdown",
   "metadata": {},
   "source": [
    "#### 2. Extracting hindi WikiPages for all scientists dump whereever it exists"
   ]
  },
  {
   "cell_type": "code",
   "execution_count": 2,
   "metadata": {
    "editable": true,
    "scrolled": true,
    "slideshow": {
     "slide_type": ""
    },
    "tags": []
   },
   "outputs": [],
   "source": [
    "person_list = []\n",
    "for i in range(1,25):\n",
    "    with open('./Data/Wikidata_JSON_businessperson/businessperson_dump_part'+str(i)+'.json') as f:\n",
    "        new_list = json.load(f)\n",
    "        #print(len(new_list))\n",
    "        person_list = person_list + new_list"
   ]
  },
  {
   "cell_type": "code",
   "execution_count": 3,
   "metadata": {},
   "outputs": [
    {
     "name": "stdout",
     "output_type": "stream",
     "text": [
      "4800\n"
     ]
    }
   ],
   "source": [
    "print(len(person_list))"
   ]
  },
  {
   "cell_type": "code",
   "execution_count": 5,
   "metadata": {},
   "outputs": [],
   "source": [
    "#person_list[1]['labels']['hi']['value']"
   ]
  },
  {
   "cell_type": "code",
   "execution_count": 6,
   "metadata": {},
   "outputs": [
    {
     "data": {
      "text/plain": [
       "'Q185'"
      ]
     },
     "execution_count": 6,
     "metadata": {},
     "output_type": "execute_result"
    }
   ],
   "source": [
    "person_list[1]['id']"
   ]
  },
  {
   "cell_type": "code",
   "execution_count": 4,
   "metadata": {
    "editable": true,
    "slideshow": {
     "slide_type": ""
    },
    "tags": []
   },
   "outputs": [
    {
     "name": "stdout",
     "output_type": "stream",
     "text": [
      "%E0%A4%B2%E0%A5%87%E0%A4%B0%E0%A5%80%20%E0%A4%B8%E0%A5%87%E0%A4%82%E0%A4%97%E0%A4%B0\n",
      "<Response [404]>\n"
     ]
    }
   ],
   "source": [
    "person_name = quote(person_list[1]['labels']['hi']['value'])\n",
    "print(person_name)\n",
    "res = requests.get('https://hi.wikipedia.org/wiki/' + person_list[1]['labels']['hi']['value'])\n",
    "print(res)"
   ]
  },
  {
   "cell_type": "code",
   "execution_count": 7,
   "metadata": {
    "editable": true,
    "slideshow": {
     "slide_type": ""
    },
    "tags": []
   },
   "outputs": [
    {
     "name": "stdout",
     "output_type": "stream",
     "text": [
      "जिमी वेल्स\n",
      "जॉर्ज वॉकर बुश\n",
      "जूलियन असांजे\n",
      "जेन्ना जेम्सन\n",
      "ओसामा बिन लादेन\n",
      "बज़ एल्ड्रिन\n",
      "अर्नोल्ड श्वार्ज़नेगर\n",
      "माइकल जैक्सन\n",
      "50 सॅण्ट\n",
      "स्नूप दॉग\n",
      "आन्द्रे अगासी\n",
      "थॉमस अल्वा एडीसन\n",
      "स्टीवन स्पिलबर्ग\n",
      "जॉन मेनार्ड कीन्स\n",
      "कैथरीन, कैम्ब्रिज की डचेस\n",
      "एर्टन सेना\n",
      "आर्थर नेविल चाम्बरलेन\n",
      "ड्वेन जॉनसन\n",
      "सेरेना विलियम्स\n",
      "हैरी एस ट्रूमैन\n",
      "निक्की हेली\n",
      "ली म्युंग बाक\n",
      "कान्ये वेस्ट\n",
      "गेरार्ड पिके\n",
      "अनुशेह अंसारी\n",
      "अल्बर्ट गोर\n",
      "जोसेफिन कोक्रेन\n",
      "डोनाल्ड ट्रम्प\n",
      "दिमित्री मेदवेदेव\n",
      "जिमी कार्टर\n",
      "बर्नार्ड अरनॉल्ट\n",
      "जेनिफ़र एनिस्टन\n",
      "अलेक्ज़ांडर ग्राहम बेल\n",
      "ग्विनिथ पाल्ट्रो\n",
      "हर्बर्ट क्लार्क हूवर\n",
      "वारन गैमेलियल हार्डिंग\n",
      "गुल्येल्मो मार्कोनी\n",
      "जॉर्ज लूकस\n",
      "नफ्ताली बेनेट\n",
      "सैंड्रा बुलक\n",
      "मारिया कैरी\n",
      "खदीजा बिन्त खुवायलद\n",
      "कैटी पेरी\n",
      "रीज विदरस्पून\n",
      "जेसिका एल्बा\n",
      "पेरिस हिल्टन\n",
      "डिक चेनी\n",
      "दान क़्वेयल:\n",
      "गिनी रोमेटी\n",
      "जॉन अगेइकुम कुफूर\n",
      "रुपर्ट मर्डोक\n",
      "येलिपेड्डी पद्मश्री वारियर\n",
      "ओपरा विनफ्रे\n",
      "शेख मोहम्मद बिन राशिद अल मकतूम\n",
      "यिंगलक चिनावाट\n",
      "पेट्रो पोरोशेंको\n",
      "हेनरी किसिंजर\n",
      "हेल्मा ओरोज\n",
      "बोरिस बेकर\n",
      "स्टीवन सीगल\n",
      "सेलिना गोमेज़\n",
      "पीटर ड्रकर\n",
      "एरिक एमर्सन श्मिट\n",
      "रॉबर्ट मेटकॉफ\n",
      "मेरी वुलस्टोनक्राफ़्ट\n",
      "लीमेह जीबोई\n",
      "सर्जियो एग्वेरो\n",
      "स्टीव इरविन\n",
      "इयान सोमरहॅल्डर\n",
      "ग्रिगोरी शेलिख़ॉव\n",
      "अजय देवगन\n",
      "स्टैफ़िनी मेईर\n",
      "पॉल एलन\n",
      "जेफरसन डेविस\n",
      "फिलिप कोट्लर\n",
      "यॉर्क की राजकुमारी बियैट्रिस\n",
      "केमिल बेंसो कावूर\n",
      "एवा मेंडिस\n",
      "ऐलॅक्ज़ैण्डर हैमिलटन\n",
      "फ़र्गी\n",
      "आयरन मैन\n",
      "मायलीन फार्मर\n",
      "विल.आई.एम\n",
      "पिटबुल\n",
      "विक्तर चेर्नोमिर्दिन\n",
      "लक्ष्मी मित्तल\n",
      "रिचर्ड ब्रैनसन\n",
      "विलियम रुटो\n",
      "ज़ेनलाबदीन तघियेव\n",
      "डेविड हैसलहोफ\n",
      "केट मॉस\n",
      "मोनिका लेविन्सकी\n",
      "नेली\n",
      "एड्डी क्यू\n",
      "मार्था स्टीवर्ट\n",
      "शेरिल सैंडबर्ग\n",
      "अरुणाचलम मुरुगनंतम\n",
      "इवांका ट्रम्प\n",
      "सुष्मिता सेन\n",
      "अरविन्द स्वामी\n",
      "नादिम ज़हावी\n",
      "ओम प्रकाश जिंदल\n",
      "सन्नी लियोन\n",
      "एना सुई\n",
      "करेन ब्रैडली\n",
      "ग्लोरिया वेंडरबिल्ट\n",
      "जेड गुडी\n",
      "इंद्रा नूई\n",
      "टिम कुक\n",
      "री कवाकूबो\n",
      "पॉल वॅस्ले\n",
      "एंड्रिया जंग\n",
      "विलियम पेटी\n",
      "जॉर्ज यूल\n",
      "रामदेव\n",
      "एडगर मिशेल\n",
      "साद अल हरीरी\n",
      "बार रेफेली\n",
      "मुकेश अंबानी\n",
      "एरॉन श्वार्ट्ज\n",
      "स्टीफन वॉलफ्रेम\n",
      "रॉबर्ट कियोसाकी\n",
      "आगा खां चतुर्थ\n",
      "स्टीफन कोवे\n",
      "सलमान तासीर\n",
      "आन्द्रेस पस्त्राना अरांगो\n",
      "बकिली मुलुजी\n",
      "एलन मस्क\n",
      "मार्क क्यूबन\n",
      "बुकर टी वाशिंगटन\n",
      "रतन नवल टाटा\n",
      "होरेशियो बोत्तोमलेय\n",
      "स्वराज पॉल\n",
      "हबर्ट सेसिल बूथ\n",
      "जैक वेल्‍श\n",
      "कैतलिन जेनर\n",
      "चाड हर्ले\n",
      "क्रिस ह्यूज\n",
      "अज़ीम प्रेमजी\n",
      "क्रिस गार्डनर\n",
      "अहमद एज़ (व्यवसायी)\n",
      "हैनिंग होल्क लार्सन\n",
      "मेलानिया ट्रम्प\n",
      "डेविड कार्प\n",
      "अमाया अर्ज़ुगा\n",
      "अमर बोस\n",
      "मेलिण्डा गेट्स\n",
      "आलोक शर्मा\n",
      "सैम वॉल्टन\n",
      "रॉन जेरेमी\n",
      "बॉब आइगर\n",
      "चंदा कोचर\n",
      "आवी आराड\n",
      "हमदान बिन मोहम्मद अल मकतूम\n",
      "मैरिसियो मैक्री\n",
      "कोच्चोसेफ चिट्टिलपिल्लि\n",
      "प्रियंका वाड्रा\n",
      "चेन दीन-ह्वा\n",
      "आर्थर डी लेविनसन\n",
      "Checkpoint 1 reached, JSON dumps saved | Time Elapsed: 84.38 seconds\n",
      "लिंडाल उर्विक\n",
      "विनोद खोसला\n",
      "स्टीफनी मैकमहोन\n",
      "सी के प्रह्लाद\n",
      "दुलकर सलमान\n",
      "सीरिल रामाफोसा\n",
      "दलीप सिंह सौंद\n",
      "दिलीप संघवी\n",
      "दोराबजी टाटा\n",
      "नील काशकारी\n",
      "सुनील भारती मित्तल\n",
      "एग्नेस मोनिका\n",
      "नागुइब साविरिस\n",
      "विक्रम पण्डित\n",
      "वारेन एंडरसन\n",
      "एन आर नारायणमूर्ति\n",
      "केरी पैकर\n",
      "नासेफ साविरिस\n",
      "तल्हा\n",
      "सबीर भाटिया\n",
      "काइली जेनर\n",
      "भुवनेश्वर कुमार\n",
      "सचिन श्रॉफ\n",
      "साइरस पलोनजी मिस्त्री\n",
      "मोहनलाल\n",
      "Final save for remaining articles: 25 articles saved in part 2\n",
      "Total time elapsed: 97.77 seconds\n"
     ]
    }
   ],
   "source": [
    "t0 = time.time()\n",
    "articles = {}\n",
    "count_persons = 0\n",
    "output_dir = 'Data/Hindi_Wikipages_businessperson'\n",
    "os.makedirs(output_dir, exist_ok=True)\n",
    "\n",
    "for person in person_list:\n",
    "    try:\n",
    "        # Check if the 'hi' (Hindi) label exists for the person\n",
    "        if 'hi' in person['labels']:\n",
    "            # Properly encode the Wikipedia page title in Hindi\n",
    "            person_name = quote(person['labels']['hi']['value'])\n",
    "            res = requests.get('https://hi.wikipedia.org/wiki/' + person_name)  # Hindi Wikipedia URL\n",
    "\n",
    "            # Check if the page exists\n",
    "            if res.status_code != 404:\n",
    "                print(person['labels']['hi']['value'])\n",
    "                # Parse the page content in Hindi\n",
    "                wiki = bs4.BeautifulSoup(res.text, \"html.parser\")\n",
    "                elems = wiki.select('p')  # Get all paragraphs\n",
    "\n",
    "                # Extract text from <p> tags and clean it\n",
    "                article = []\n",
    "                for elem in elems:\n",
    "                    text = elem.getText().replace('\\n', '').lower()\n",
    "                    text = text.replace('\\ufeff', ' ')\n",
    "                    text = re.sub(r'\\[\\d+\\]', '', text.strip())  # Remove reference numbers like [1], [2]\n",
    "                    article.extend(sent_tokenize(text))  # Use sentence tokenization\n",
    "\n",
    "                # Remove any empty sentences from the article\n",
    "                article = [sent.strip() for sent in article if sent.strip()]\n",
    "\n",
    "                # Store the cleaned article in the articles dictionary\n",
    "                if article:\n",
    "                    articles[person['id']] = article\n",
    "\n",
    "            count_persons += 1\n",
    "\n",
    "            # Save articles every 200 persons\n",
    "            if count_persons % 200 == 0:\n",
    "                partition_num = str(count_persons // 200)\n",
    "                with open(f'{output_dir}/hi_articles_part{partition_num}.json', 'w', encoding='utf-8') as fout:\n",
    "                    json.dump(articles, fout, indent=4, ensure_ascii=False)  # Save in UTF-8 for Hindi characters\n",
    "                \n",
    "                # Reset articles for the next batch\n",
    "                articles = {}\n",
    "\n",
    "                # Print progress\n",
    "                print(f\"Checkpoint {partition_num} reached, JSON dumps saved | Time Elapsed: {time.time() - t0:.2f} seconds\")\n",
    "\n",
    "        #else:\n",
    "            #print(f\"No Hindi label for person ID {person['id']}\")\n",
    "\n",
    "    except Exception as e:\n",
    "        print(f\"Error processing person ID {person['id']}: {e}\")\n",
    "\n",
    "# Save remaining articles (if any) after the loop finishes\n",
    "if articles:\n",
    "    partition_num = str((count_persons // 200) + 1)  # Calculate the next partition number\n",
    "    with open(f'{output_dir}/hi_articles_part{partition_num}.json', 'w', encoding='utf-8') as fout:\n",
    "        json.dump(articles, fout, indent=4, ensure_ascii=False)\n",
    "    print(f\"Final save for remaining articles: {len(articles)} articles saved in part {partition_num}\")\n",
    "\n",
    "# Final timing and completion message\n",
    "t1 = time.time()\n",
    "total = t1 - t0\n",
    "print(f\"Total time elapsed: {total:.2f} seconds\")"
   ]
  },
  {
   "cell_type": "code",
   "execution_count": 8,
   "metadata": {
    "editable": true,
    "slideshow": {
     "slide_type": ""
    },
    "tags": []
   },
   "outputs": [
    {
     "name": "stdout",
     "output_type": "stream",
     "text": [
      "97.76759171485901\n",
      "25\n"
     ]
    }
   ],
   "source": [
    "print(total)\n",
    "print(len(articles))"
   ]
  }
 ],
 "metadata": {
  "kernelspec": {
   "display_name": "nl_proj_env",
   "language": "python",
   "name": "python3"
  },
  "language_info": {
   "codemirror_mode": {
    "name": "ipython",
    "version": 3
   },
   "file_extension": ".py",
   "mimetype": "text/x-python",
   "name": "python",
   "nbconvert_exporter": "python",
   "pygments_lexer": "ipython3",
   "version": "3.9.20"
  }
 },
 "nbformat": 4,
 "nbformat_minor": 4
}
