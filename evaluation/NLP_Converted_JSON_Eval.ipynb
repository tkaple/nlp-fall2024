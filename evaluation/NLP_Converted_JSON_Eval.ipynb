{
 "cells": [
  {
   "cell_type": "code",
   "execution_count": 76,
   "id": "2031a851",
   "metadata": {},
   "outputs": [
    {
     "data": {
      "text/plain": [
       "'\\nBERT Score Evaluation for English to Hindi Translation by LLM\\n'"
      ]
     },
     "execution_count": 76,
     "metadata": {},
     "output_type": "execute_result"
    }
   ],
   "source": [
    "\"\"\"\n",
    "BERT Score Evaluation for English to Hindi Translation by LLM\n",
    "\"\"\""
   ]
  },
  {
   "cell_type": "code",
   "execution_count": null,
   "id": "63620caa",
   "metadata": {},
   "outputs": [],
   "source": [
    "#!pip install bert-score transformers torch"
   ]
  },
  {
   "cell_type": "code",
   "execution_count": 26,
   "id": "10453245",
   "metadata": {},
   "outputs": [],
   "source": [
    "from bert_score import BERTScorer\n",
    "from langchain.docstore.document import Document\n",
    "from langchain_text_splitters import CharacterTextSplitter\n",
    "from langchain.embeddings import SentenceTransformerEmbeddings\n",
    "from langchain.vectorstores import Chroma"
   ]
  },
  {
   "cell_type": "code",
   "execution_count": 6,
   "id": "5bca8d86",
   "metadata": {},
   "outputs": [],
   "source": [
    "scorer = BERTScorer(lang=\"hi\",  model_type=\"bert-base-multilingual-cased\")"
   ]
  },
  {
   "cell_type": "code",
   "execution_count": 78,
   "id": "d69b98f9",
   "metadata": {},
   "outputs": [
    {
     "name": "stdout",
     "output_type": "stream",
     "text": [
      "Target Collection Is: politician_json_files\n",
      "Execution time: 1.4099 seconds\n",
      "Number of Documents: 85\n"
     ]
    }
   ],
   "source": [
    "import time\n",
    "start_time = time.time()\n",
    "occupation = \"politician\"\n",
    "target_collection_name = occupation + \"_json_files\"\n",
    "embeddings = SentenceTransformerEmbeddings(model_name=EMBEDDINGS_MODEL)\n",
    "print(\"Target Collection Is: \" + target_collection_name)\n",
    "chroma_db_from_disk = Chroma(persist_directory=CHROMA_PERSIST_DIRECTORY,                             \n",
    "                            collection_name=target_collection_name,\n",
    "                            embedding_function=embeddings)\n",
    "#results = chroma_db_from_disk.similarity_search(\"\", k=100)\n",
    "results = chroma_db_from_disk._collection.get(include=[\"documents\", \"metadatas\", \"embeddings\"])\n",
    "documents = [\n",
    "    Document(page_content=doc, metadata=meta)\n",
    "    for doc, meta in zip(results[\"documents\"], results[\"metadatas\"])\n",
    "]\n",
    "end_time = time.time()\n",
    "execution_time = end_time - start_time\n",
    "print(f\"Execution time: {execution_time:.4f} seconds\")\n",
    "print(\"Number of Documents: \"+  str(len(documents)))"
   ]
  },
  {
   "cell_type": "code",
   "execution_count": 79,
   "id": "66fff5f5",
   "metadata": {},
   "outputs": [
    {
     "data": {
      "text/plain": [
       "Document(metadata={'first_name': 'Inoke', 'last_name': '', 'source': 'json_politician'}, page_content='[\"<|begin_of_text|>Below is an instruction that describes a task, paired with an input that provides further context. Write a response that appropriately completes the request.\\\\n\\\\n### Instruction:\\\\nTranslate this English JSON File into a Hindi Language JSON File. \\\\n                Do not any other extra text or note after the conversion of JSON. \\\\n                Make sure everything in your response is in Hindi strictly and there are no additional NOTE afterwards\\\\n\\\\n### Input:\\\\n{\\'_id\\': \\'Q58316\\',\\'sex or gender\\': [\\'male\\'], \\'instance of\\': [\\'human\\'], \\'occupation\\': [\\'diplomat\\', \\'politician\\'], \\'date of birth\\': [{\\'time\\': \\'+1948-06-16T00:00:00Z\\', \\'timezone\\': 0, \\'before\\': 0, \\'after\\': 0, \\'precision\\': 11, \\'calendarmodel\\': \\'http://www.wikidata.org/entity/Q1985727\\'}], \\'position held\\': [\\'Member of the House of Representatives of Fiji\\', \\'Member of the Parliament of Fiji\\', \\'Minister for Foreign Affairs\\', \\'ambassador\\'], \\'Commons category\\': [\\'Inoke Kubuabola\\'], \\'country of citizenship\\': [\\'Fiji\\'], \\'image\\': [\\'Ratu Inoke Kubuabola (cropped).jpg\\'], \\'given name\\': [\\'Inoke\\'],\\'sibling\\': [\\'Jone Kubuabola\\'],\\'member of political party\\': [\\'Fiji First Party\\']}\\\\n\\\\n### Response:\\\\n{\\'_id\\': \\'Q58316\\', \\'लिंग या लिंग\\': [\\'पुरुष\\'], \\'उदाहरण\\': [\\'मानव\\'], \\'व्यवसाय\\': [\\'राजनयिक\\', \\'राजनेता\\'], \\'जन्म तिथि\\': [{\\'समय\\': \\'+1948-06-16T00:00:00Z\\', \\'समय क्षेत्र\\': 0, \\'पहले\\': 0, \\'बाद में\\': 0, \\'सटीकता\\': 11, \\'कैलेंडर मॉडल\\': \\'http://www.wikidata.org/entity/Q1985727\\'}], \\'स्थिति धारण की\\': [\\'फिजी के सदन के सदस्य\\', \\'फिजी की संसद के सदस्य\\', \\'विदेश मंत्री\\', \\'राजदूत\\'], \\'सामान्य श्रेणी\\': [\\'इनोके कुबुआबोला\\'], \\'नागरिकता का देश\\': [\\'फिजी\\'], \\'छवि\\': [\\'रतु इनोके कुबुआबोला (क्रॉप्ड).jpg\\'], \\'दिया गया नाम\\': [\\'इनोके\\'], \\'भाई-बहन\\': [\\'जोन कुबुआबोला\\'], \\'राजनीतिक दल का सदस्य\\': [\\'फिजी फर्स्ट पार्टी\\']}<|eot_id|>\"]')"
      ]
     },
     "execution_count": 79,
     "metadata": {},
     "output_type": "execute_result"
    }
   ],
   "source": [
    "documents[0]"
   ]
  },
  {
   "cell_type": "code",
   "execution_count": 80,
   "id": "64dcfbb0",
   "metadata": {},
   "outputs": [
    {
     "name": "stderr",
     "output_type": "stream",
     "text": [
      " 13%|█▎        | 11/85 [00:00<00:04, 17.91it/s]"
     ]
    },
    {
     "name": "stdout",
     "output_type": "stream",
     "text": [
      "Error parsing JSON: ':' expected after dictionary key (<unknown>, line 1)\n"
     ]
    },
    {
     "name": "stderr",
     "output_type": "stream",
     "text": [
      " 22%|██▏       | 19/85 [00:01<00:03, 18.09it/s]"
     ]
    },
    {
     "name": "stdout",
     "output_type": "stream",
     "text": [
      "Error parsing JSON: invalid character '–' (U+2013) (<unknown>, line 1)\n",
      "Error parsing JSON: '{' was never closed (<unknown>, line 1)\n",
      "Error parsing JSON: '{' was never closed (<unknown>, line 1)\n"
     ]
    },
    {
     "name": "stderr",
     "output_type": "stream",
     "text": [
      " 35%|███▌      | 30/85 [00:01<00:02, 24.33it/s]"
     ]
    },
    {
     "name": "stdout",
     "output_type": "stream",
     "text": [
      "Error parsing JSON: '{' was never closed (<unknown>, line 1)\n",
      "Error parsing JSON: '{' was never closed (<unknown>, line 1)\n",
      "Error parsing JSON: '{' was never closed (<unknown>, line 1)\n",
      "Error parsing JSON: closing parenthesis '}' does not match opening parenthesis '[' (<unknown>, line 1)\n"
     ]
    },
    {
     "name": "stderr",
     "output_type": "stream",
     "text": [
      " 48%|████▊     | 41/85 [00:01<00:01, 24.20it/s]"
     ]
    },
    {
     "name": "stdout",
     "output_type": "stream",
     "text": [
      "Error parsing JSON: invalid character '०' (U+0966) (<unknown>, line 1)\n",
      "Error parsing JSON: '{' was never closed (<unknown>, line 1)\n",
      "Error parsing JSON: closing parenthesis '}' does not match opening parenthesis '[' (<unknown>, line 1)\n"
     ]
    },
    {
     "name": "stderr",
     "output_type": "stream",
     "text": [
      " 69%|██████▉   | 59/85 [00:02<00:01, 21.29it/s]"
     ]
    },
    {
     "name": "stdout",
     "output_type": "stream",
     "text": [
      "Error parsing JSON: '{' was never closed (<unknown>, line 1)\n"
     ]
    },
    {
     "name": "stderr",
     "output_type": "stream",
     "text": [
      " 76%|███████▋  | 65/85 [00:03<00:01, 19.49it/s]"
     ]
    },
    {
     "name": "stdout",
     "output_type": "stream",
     "text": [
      "Error parsing JSON: '{' was never closed (<unknown>, line 1)\n"
     ]
    },
    {
     "name": "stderr",
     "output_type": "stream",
     "text": [
      " 80%|████████  | 68/85 [00:03<00:01, 16.52it/s]"
     ]
    },
    {
     "name": "stdout",
     "output_type": "stream",
     "text": [
      "Error parsing JSON: '{' was never closed (<unknown>, line 1)\n",
      "Error parsing JSON: '{' was never closed (<unknown>, line 1)\n"
     ]
    },
    {
     "name": "stderr",
     "output_type": "stream",
     "text": [
      " 94%|█████████▍| 80/85 [00:04<00:00, 15.57it/s]"
     ]
    },
    {
     "name": "stdout",
     "output_type": "stream",
     "text": [
      "Error parsing JSON: leading zeros in decimal integer literals are not permitted; use an 0o prefix for octal integers (<unknown>, line 1)\n"
     ]
    },
    {
     "name": "stderr",
     "output_type": "stream",
     "text": [
      "100%|██████████| 85/85 [00:04<00:00, 19.65it/s]"
     ]
    },
    {
     "name": "stdout",
     "output_type": "stream",
     "text": [
      "Error parsing JSON: '{' was never closed (<unknown>, line 1)\n",
      "Error parsing JSON: '{' was never closed (<unknown>, line 1)\n",
      "Error parsing JSON: '{' was never closed (<unknown>, line 1)\n"
     ]
    },
    {
     "name": "stderr",
     "output_type": "stream",
     "text": [
      "\n"
     ]
    }
   ],
   "source": [
    "import json\n",
    "import ast\n",
    "import time\n",
    "from tqdm import tqdm\n",
    "precision_vals_final = []\n",
    "recall_vals_final = []\n",
    "f1_vals_final = []\n",
    "precision_keys_final = []\n",
    "recall_keys_final = []\n",
    "f1_keys_final = []\n",
    "errors = 0\n",
    "for res in tqdm(documents):\n",
    "    document = res  \n",
    "    content = ast.literal_eval(document.page_content)[0]  # Parse the string as a Python literal and get the first element\n",
    "    response_start = content.index(\"### Response:\")\n",
    "    json_start = content.index(\"{\", response_start)\n",
    "    json_end = content.rindex(\"}\")\n",
    "    json_string = content[json_start:json_end+1]\n",
    "    try:\n",
    "        parsed_dict = ast.literal_eval(json_string)\n",
    "        json_data = json.dumps(parsed_dict, ensure_ascii=False, indent=2)\n",
    "        #print(json_data)\n",
    "    except (SyntaxError, ValueError) as e:\n",
    "        print(f\"Error parsing JSON: {e}\")\n",
    "        errors += 1\n",
    "        continue\n",
    "    candidate_val = [\n",
    "    \" \".join(str(value) if isinstance(value, list) else str(value) for value in parsed_dict[key])\n",
    "        for key in parsed_dict\n",
    "    ]\n",
    "    candidate_key = [str(key) for key in parsed_dict.keys()]\n",
    "    match = re.search(r'### Input:(.*?)(?=###|<|eot_id)', content, re.DOTALL)\n",
    "    if match:\n",
    "        input_content = match.group(1).strip() \n",
    "        try:\n",
    "            parsed_dict = ast.literal_eval(input_content)  # Safely parse the Python-like input\n",
    "            json_data = json.dumps(parsed_dict, ensure_ascii=False, indent=2)\n",
    "            #print(json_data)\n",
    "        except (SyntaxError, ValueError) as e:\n",
    "            print(f\"Error parsing input: {e}\")\n",
    "    else:\n",
    "        continue\n",
    "    reference_val = [\n",
    "    \" \".join(str(value) if isinstance(value, list) else str(value) for value in parsed_dict[key])\n",
    "        for key in parsed_dict\n",
    "    ]\n",
    "    reference_key = [str(key) for key in parsed_dict.keys()]\n",
    "    try:\n",
    "        P, R, F1 = scorer.score(candidate_val, reference_val)\n",
    "        P_Key, R_Key, F1_Key = scorer.score(candidate_key, reference_key)\n",
    "    except:\n",
    "        continue\n",
    "    precision_vals_final.append(P.mean().item())\n",
    "    recall_vals_final.append(R.mean().item())\n",
    "    f1_vals_final.append(F1.mean().item())\n",
    "    precision_keys_final.append(P_Key.mean().item())\n",
    "    recall_keys_final.append(R_Key.mean().item())\n",
    "    f1_keys_final.append(F1_Key.mean().item())"
   ]
  },
  {
   "cell_type": "code",
   "execution_count": 81,
   "id": "c6da7ea9",
   "metadata": {},
   "outputs": [
    {
     "name": "stdout",
     "output_type": "stream",
     "text": [
      "19\n"
     ]
    }
   ],
   "source": [
    "print(errors)"
   ]
  },
  {
   "cell_type": "code",
   "execution_count": 82,
   "id": "646573aa",
   "metadata": {},
   "outputs": [
    {
     "name": "stdout",
     "output_type": "stream",
     "text": [
      "Precision For JSON Values conversion:0.766576367205587\n",
      "Recall For JSON Values conversion:0.8016621634877962\n",
      "F1 for JSON Values conversion:0.7833567724145692\n",
      "Precision for JSON Keys conversion:0.7527416327904011\n",
      "Recall for JSON Keys conversion:0.7685230107143007\n",
      "F1 for JSON Keys conversion:0.7601783234497597\n"
     ]
    }
   ],
   "source": [
    "import statistics\n",
    "p_vals_final = statistics.mean(precision_vals_final)\n",
    "r_vals_final = statistics.mean(recall_vals_final)\n",
    "f1_val_final = statistics.mean(f1_vals_final)    \n",
    "p_keys_final = statistics.mean(precision_keys_final)\n",
    "r_keys_final = statistics.mean(recall_keys_final)\n",
    "f1_key_final = statistics.mean(f1_keys_final)\n",
    "print(\"Precision For JSON Values conversion:\" + str(p_vals_final))\n",
    "print(\"Recall For JSON Values conversion:\"+ str(r_vals_final))\n",
    "print(\"F1 for JSON Values conversion:\"+ str(f1_val_final))\n",
    "print(\"Precision for JSON Keys conversion:\"+ str(p_keys_final))\n",
    "print(\"Recall for JSON Keys conversion:\"+ str(r_keys_final))\n",
    "print(\"F1 for JSON Keys conversion:\" + str(f1_key_final))"
   ]
  }
 ],
 "metadata": {
  "kernelspec": {
   "display_name": "Python [conda env:.conda-myenv]",
   "language": "python",
   "name": "conda-env-.conda-myenv-py"
  },
  "language_info": {
   "codemirror_mode": {
    "name": "ipython",
    "version": 3
   },
   "file_extension": ".py",
   "mimetype": "text/x-python",
   "name": "python",
   "nbconvert_exporter": "python",
   "pygments_lexer": "ipython3",
   "version": "3.11.10"
  }
 },
 "nbformat": 4,
 "nbformat_minor": 5
}
