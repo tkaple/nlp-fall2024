{
 "cells": [
  {
   "cell_type": "markdown",
   "metadata": {},
   "source": [
    "#### 1. Importing Libraries"
   ]
  },
  {
   "cell_type": "code",
   "execution_count": 2,
   "metadata": {},
   "outputs": [],
   "source": [
    "from qwikidata.entity import WikidataItem, WikidataLexeme, WikidataProperty\n",
    "from qwikidata.linked_data_interface import get_entity_dict_from_api\n",
    "from SPARQLWrapper import SPARQLWrapper, JSON\n",
    "import json\n",
    "import time\n",
    "import os"
   ]
  },
  {
   "cell_type": "markdown",
   "metadata": {},
   "source": [
    "2. Get the list of people using SPARQL"
   ]
  },
  {
   "cell_type": "code",
   "execution_count": 3,
   "metadata": {},
   "outputs": [],
   "source": [
    "sparql = SPARQLWrapper(\"https://query.wikidata.org/sparql\")"
   ]
  },
  {
   "cell_type": "code",
   "execution_count": null,
   "metadata": {},
   "outputs": [],
   "source": [
    "sparql.setQuery(\"\"\"\n",
    "    SELECT ?person ?personLabel WHERE {\n",
    "      ?person wdt:P106 wd:Q43845 .  # Remaining QIDs for each occupation are Occupation: Scientist - Q901, Occupation: Businessperson - Q43845, Occupation: Politican - Q82955, Occupation: Actor - Q33999\n",
    "      SERVICE wikibase:label { bd:serviceParam wikibase:language \"[AUTO_LANGUAGE],en\". }  # Get English labels\n",
    "    }\n",
    "\"\"\")\n",
    "sparql.setReturnFormat(JSON)\n",
    "# Execute the query and get the results\n",
    "results = sparql.query().convert()"
   ]
  },
  {
   "cell_type": "code",
   "execution_count": 5,
   "metadata": {},
   "outputs": [
    {
     "name": "stdout",
     "output_type": "stream",
     "text": [
      "83193\n"
     ]
    }
   ],
   "source": [
    "print(len(results[\"results\"][\"bindings\"]))"
   ]
  },
  {
   "cell_type": "code",
   "execution_count": 6,
   "metadata": {},
   "outputs": [
    {
     "name": "stdout",
     "output_type": "stream",
     "text": [
      "[{'businessperson': 'http://www.wikidata.org/entity/Q181', 'businesspersonLabel': 'Jimmy Wales'}, {'businessperson': 'http://www.wikidata.org/entity/Q185', 'businesspersonLabel': 'Larry Sanger'}, {'businessperson': 'http://www.wikidata.org/entity/Q207', 'businesspersonLabel': 'George W. Bush'}, {'businessperson': 'http://www.wikidata.org/entity/Q306', 'businesspersonLabel': 'Sebastián Piñera'}, {'businessperson': 'http://www.wikidata.org/entity/Q360', 'businesspersonLabel': 'Julian Assange'}, {'businessperson': 'http://www.wikidata.org/entity/Q400', 'businesspersonLabel': 'Jenna Jameson'}, {'businessperson': 'http://www.wikidata.org/entity/Q607', 'businesspersonLabel': 'Michael Bloomberg'}, {'businessperson': 'http://www.wikidata.org/entity/Q1317', 'businesspersonLabel': 'Osama bin Laden'}, {'businessperson': 'http://www.wikidata.org/entity/Q1318', 'businesspersonLabel': 'Aníbal Zañartu'}, {'businessperson': 'http://www.wikidata.org/entity/Q1379', 'businesspersonLabel': 'Gary Gygax'}]\n"
     ]
    }
   ],
   "source": [
    "person_data = []\n",
    "for result in results[\"results\"][\"bindings\"]:\n",
    "    person_data.append({\n",
    "        \"businessperson\": result[\"person\"][\"value\"],\n",
    "        \"businesspersonLabel\": result[\"personLabel\"][\"value\"]\n",
    "    })\n",
    "print(person_data[:10])"
   ]
  },
  {
   "cell_type": "code",
   "execution_count": null,
   "metadata": {},
   "outputs": [
    {
     "name": "stdout",
     "output_type": "stream",
     "text": [
      "Data saved to Data/Wikidata_JSON_Businessperson/businesspersons_list.json\n"
     ]
    }
   ],
   "source": [
    "occupation = \"politican\"\n",
    "output_dir = 'Data/Wikidata_JSON_'+occupation\n",
    "os.makedirs(output_dir, exist_ok=True)\n",
    "\n",
    "output_file = os.path.join(output_dir, occupation+'s_list.json')\n",
    "\n",
    "# Save the results as a JSON file\n",
    "with open(output_file, 'w') as f:\n",
    "    json.dump(person_data, f, indent=4)\n",
    "\n",
    "print(f\"Data saved to {output_file}\")"
   ]
  },
  {
   "cell_type": "markdown",
   "metadata": {},
   "source": [
    "#### 2. Inputting List of monuments from SPARQL output of list of People for an Occupation"
   ]
  },
  {
   "cell_type": "code",
   "execution_count": null,
   "metadata": {},
   "outputs": [],
   "source": [
    "with open('Data/Wikidata_JSON_businessperson/'+occupation+'s_list.json') as f:\n",
    "    person_list = json.load(f)\n",
    "\n",
    "for i in range (0,len(person_list)):\n",
    "    person_list[i][occupation] = person_list[i][occupation].split('/')[-1]"
   ]
  },
  {
   "cell_type": "markdown",
   "metadata": {},
   "source": [
    "#### 3. Removing People Without English Labels"
   ]
  },
  {
   "cell_type": "code",
   "execution_count": null,
   "metadata": {},
   "outputs": [
    {
     "name": "stdout",
     "output_type": "stream",
     "text": [
      "Checkpoint 1 reached, JSON dumps saved | Time Elapsed: 47.34 seconds\n",
      "Checkpoint 2 reached, JSON dumps saved | Time Elapsed: 86.72 seconds\n",
      "Checkpoint 3 reached, JSON dumps saved | Time Elapsed: 129.98 seconds\n",
      "Checkpoint 4 reached, JSON dumps saved | Time Elapsed: 171.63 seconds\n",
      "Checkpoint 5 reached, JSON dumps saved | Time Elapsed: 211.51 seconds\n",
      "Checkpoint 6 reached, JSON dumps saved | Time Elapsed: 250.72 seconds\n",
      "Checkpoint 7 reached, JSON dumps saved | Time Elapsed: 291.11 seconds\n",
      "Checkpoint 8 reached, JSON dumps saved | Time Elapsed: 329.89 seconds\n",
      "Checkpoint 9 reached, JSON dumps saved | Time Elapsed: 369.02 seconds\n",
      "Checkpoint 10 reached, JSON dumps saved | Time Elapsed: 407.61 seconds\n",
      "Checkpoint 11 reached, JSON dumps saved | Time Elapsed: 447.21 seconds\n",
      "Checkpoint 12 reached, JSON dumps saved | Time Elapsed: 485.14 seconds\n",
      "Checkpoint 13 reached, JSON dumps saved | Time Elapsed: 522.73 seconds\n",
      "Checkpoint 14 reached, JSON dumps saved | Time Elapsed: 560.66 seconds\n",
      "Checkpoint 15 reached, JSON dumps saved | Time Elapsed: 597.73 seconds\n",
      "Checkpoint 16 reached, JSON dumps saved | Time Elapsed: 635.50 seconds\n",
      "Checkpoint 17 reached, JSON dumps saved | Time Elapsed: 673.49 seconds\n",
      "Checkpoint 18 reached, JSON dumps saved | Time Elapsed: 711.35 seconds\n",
      "Checkpoint 19 reached, JSON dumps saved | Time Elapsed: 749.62 seconds\n",
      "Checkpoint 20 reached, JSON dumps saved | Time Elapsed: 786.73 seconds\n",
      "Checkpoint 21 reached, JSON dumps saved | Time Elapsed: 823.79 seconds\n",
      "Checkpoint 22 reached, JSON dumps saved | Time Elapsed: 861.44 seconds\n",
      "Checkpoint 23 reached, JSON dumps saved | Time Elapsed: 899.41 seconds\n",
      "Checkpoint 24 reached, JSON dumps saved | Time Elapsed: 937.75 seconds\n",
      "Checkpoint 25 reached, JSON dumps saved | Time Elapsed: 975.06 seconds\n",
      "Total time elapsed: 975.06 seconds\n"
     ]
    }
   ],
   "source": [
    "count_persons = 0\n",
    "\n",
    "t0 = time.time()\n",
    "\n",
    "en_labelled_persons = []\n",
    "all_persons = []\n",
    "\n",
    "for person in person_list[:5000]:\n",
    "    try:\n",
    "        # Get details from Wikidata\n",
    "        person_details = get_entity_dict_from_api(person[occupation])\n",
    "        all_persons.append(person_details)\n",
    "        \n",
    "        # Check for 'en' (English) label\n",
    "        if 'en' in person_details['labels']:\n",
    "            en_labelled_persons.append(person_details)\n",
    "        \n",
    "        count_persons += 1\n",
    "        \n",
    "        # Every 200 persons, save to JSON\n",
    "        if count_persons % 200 == 0:\n",
    "            partition_num = str(count_persons // 200)\n",
    "            \n",
    "            # Save English-labeled persons\n",
    "            with open(f'Data/Wikidata_JSON_businessperson/en_{occupation}_dump_part{partition_num}.json', 'w') as fout:\n",
    "                json.dump(en_labelled_persons, fout, indent=4)\n",
    "            \n",
    "            # Save all persons\n",
    "            with open(f'Data/Wikidata_JSON_businessperson/{occupation}_dump_part{partition_num}.json', 'w') as fout:\n",
    "                json.dump(all_persons, fout, indent=4)\n",
    "            \n",
    "            # Reset lists\n",
    "            en_labelled_persons = []\n",
    "            all_persons = []\n",
    "            \n",
    "            # Print progress\n",
    "            print(f\"Checkpoint {partition_num} reached, JSON dumps saved | Time Elapsed: {time.time() - t0:.2f} seconds\")\n",
    "    \n",
    "    except Exception as e:\n",
    "        print(f\"Error processing {occupation} {person[occupation]}: {e}\")\n",
    "\n",
    "# Final timing\n",
    "t1 = time.time()\n",
    "total = t1 - t0\n",
    "print(f\"Total time elapsed: {total:.2f} seconds\")\n",
    "\n"
   ]
  },
  {
   "cell_type": "code",
   "execution_count": null,
   "metadata": {},
   "outputs": [],
   "source": []
  }
 ],
 "metadata": {
  "kernelspec": {
   "display_name": "nl_proj_env",
   "language": "python",
   "name": "python3"
  },
  "language_info": {
   "codemirror_mode": {
    "name": "ipython",
    "version": 3
   },
   "file_extension": ".py",
   "mimetype": "text/x-python",
   "name": "python",
   "nbconvert_exporter": "python",
   "pygments_lexer": "ipython3",
   "version": "3.9.20"
  }
 },
 "nbformat": 4,
 "nbformat_minor": 4
}
