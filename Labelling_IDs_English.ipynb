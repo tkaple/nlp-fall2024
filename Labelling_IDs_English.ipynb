{
 "cells": [
  {
   "cell_type": "markdown",
   "metadata": {},
   "source": [
    "#### 1. Importing Libraries"
   ]
  },
  {
   "cell_type": "code",
   "execution_count": 1,
   "metadata": {},
   "outputs": [],
   "source": [
    "import json\n",
    "from qwikidata.entity import WikidataItem, WikidataLexeme, WikidataProperty\n",
    "from qwikidata.linked_data_interface import get_entity_dict_from_api\n",
    "import json\n",
    "import time"
   ]
  },
  {
   "cell_type": "markdown",
   "metadata": {},
   "source": [
    "#### 2. Reading Person List"
   ]
  },
  {
   "cell_type": "code",
   "execution_count": null,
   "metadata": {},
   "outputs": [],
   "source": [
    "person_list = []\n",
    "occupation = \"politician\"\n",
    "for i in range(1,25):\n",
    "    with open('./Data/Wikidata_JSON_'+occupation+'/en_'+occupation+'_dump_part'+str(i)+'.json') as f:\n",
    "        new_list = json.load(f)\n",
    "        person_list = person_list + new_list\n",
    "\n",
    "person_dict = {}\n",
    "for person in person_list:\n",
    "    person_dict[person['id']] = person\n",
    "             \n",
    "wikipage_person_dict = {}\n",
    "for i in range(1,23):\n",
    "    with open('./Data/English_Wikipages_'+occupation+'/en_articles_part'+str(i)+'.json') as f:\n",
    "        new_dict = json.load(f)\n",
    "        wikipage_person_dict.update(new_dict) "
   ]
  },
  {
   "cell_type": "code",
   "execution_count": 4,
   "metadata": {},
   "outputs": [
    {
     "data": {
      "text/plain": [
       "3718"
      ]
     },
     "execution_count": 4,
     "metadata": {},
     "output_type": "execute_result"
    }
   ],
   "source": [
    "len(wikipage_person_dict)"
   ]
  },
  {
   "cell_type": "markdown",
   "metadata": {},
   "source": [
    "#### 3. Retrieving Labels for Property Value pairs for each person"
   ]
  },
  {
   "cell_type": "code",
   "execution_count": 3,
   "metadata": {
    "scrolled": true
   },
   "outputs": [
    {
     "name": "stderr",
     "output_type": "stream",
     "text": [
      "Wikidata redirect detected.  Input entity id=Q13498051. Returned entity id=Q12794688.\n"
     ]
    },
    {
     "name": "stdout",
     "output_type": "stream",
     "text": [
      "Checkpoint 1 reached, JSON dumps saved | Time Elapsed: 307.7796678543091\n",
      "Checkpoint 2 reached, JSON dumps saved | Time Elapsed: 466.7566177845001\n",
      "Checkpoint 3 reached, JSON dumps saved | Time Elapsed: 582.306314945221\n",
      "Checkpoint 4 reached, JSON dumps saved | Time Elapsed: 679.1318182945251\n",
      "Checkpoint 5 reached, JSON dumps saved | Time Elapsed: 795.7746908664703\n",
      "Checkpoint 6 reached, JSON dumps saved | Time Elapsed: 888.7621989250183\n",
      "Checkpoint 7 reached, JSON dumps saved | Time Elapsed: 952.2535276412964\n",
      "Checkpoint 8 reached, JSON dumps saved | Time Elapsed: 1060.1986389160156\n",
      "Checkpoint 9 reached, JSON dumps saved | Time Elapsed: 1128.6738965511322\n",
      "Checkpoint 10 reached, JSON dumps saved | Time Elapsed: 1192.9545223712921\n"
     ]
    },
    {
     "name": "stderr",
     "output_type": "stream",
     "text": [
      "Wikidata redirect detected.  Input entity id=Q16881374. Returned entity id=Q10352355.\n"
     ]
    },
    {
     "name": "stdout",
     "output_type": "stream",
     "text": [
      "Checkpoint 11 reached, JSON dumps saved | Time Elapsed: 1245.737945318222\n",
      "Checkpoint 12 reached, JSON dumps saved | Time Elapsed: 1295.4024240970612\n",
      "Checkpoint 13 reached, JSON dumps saved | Time Elapsed: 1327.6330726146698\n",
      "Checkpoint 14 reached, JSON dumps saved | Time Elapsed: 1374.6082060337067\n",
      "Checkpoint 15 reached, JSON dumps saved | Time Elapsed: 1407.494785785675\n",
      "Checkpoint 16 reached, JSON dumps saved | Time Elapsed: 1428.2747676372528\n",
      "Checkpoint 17 reached, JSON dumps saved | Time Elapsed: 1461.8852169513702\n",
      "Checkpoint 18 reached, JSON dumps saved | Time Elapsed: 1495.0765476226807\n",
      "Checkpoint 19 reached, JSON dumps saved | Time Elapsed: 1522.8190710544586\n",
      "Checkpoint 20 reached, JSON dumps saved | Time Elapsed: 1552.9860968589783\n",
      "Checkpoint 21 reached, JSON dumps saved | Time Elapsed: 1589.3462347984314\n",
      "Checkpoint 22 reached, JSON dumps saved | Time Elapsed: 1643.4500603675842\n",
      "Checkpoint 23 reached, JSON dumps saved | Time Elapsed: 1682.1215651035309\n",
      "Checkpoint 24 reached, JSON dumps saved | Time Elapsed: 1761.3100793361664\n",
      "Checkpoint 25 reached, JSON dumps saved | Time Elapsed: 1822.7333688735962\n",
      "Checkpoint 26 reached, JSON dumps saved | Time Elapsed: 1887.2192332744598\n",
      "Checkpoint 27 reached, JSON dumps saved | Time Elapsed: 1914.8046395778656\n",
      "Checkpoint 28 reached, JSON dumps saved | Time Elapsed: 1977.6187653541565\n",
      "Checkpoint 29 reached, JSON dumps saved | Time Elapsed: 2041.0287051200867\n",
      "Checkpoint 30 reached, JSON dumps saved | Time Elapsed: 2110.6103451251984\n",
      "Checkpoint 31 reached, JSON dumps saved | Time Elapsed: 2146.82696557045\n",
      "Checkpoint 32 reached, JSON dumps saved | Time Elapsed: 2191.057873725891\n",
      "Checkpoint 33 reached, JSON dumps saved | Time Elapsed: 2237.2257900238037\n",
      "Checkpoint 34 reached, JSON dumps saved | Time Elapsed: 2286.9472827911377\n",
      "Checkpoint 35 reached, JSON dumps saved | Time Elapsed: 2328.2089133262634\n",
      "Checkpoint 36 reached, JSON dumps saved | Time Elapsed: 2373.371374607086\n",
      "Checkpoint 37 reached, JSON dumps saved | Time Elapsed: 2405.134981393814\n",
      "Checkpoint 38 reached, JSON dumps saved | Time Elapsed: 2440.117891073227\n",
      "Checkpoint 39 reached, JSON dumps saved | Time Elapsed: 2473.7490162849426\n",
      "Checkpoint 40 reached, JSON dumps saved | Time Elapsed: 2501.8028514385223\n"
     ]
    },
    {
     "name": "stderr",
     "output_type": "stream",
     "text": [
      "Wikidata redirect detected.  Input entity id=Q21430730. Returned entity id=Q12669358.\n"
     ]
    },
    {
     "name": "stdout",
     "output_type": "stream",
     "text": [
      "Checkpoint 41 reached, JSON dumps saved | Time Elapsed: 2540.020952939987\n",
      "Checkpoint 42 reached, JSON dumps saved | Time Elapsed: 2565.4275114536285\n",
      "Checkpoint 43 reached, JSON dumps saved | Time Elapsed: 2607.0603444576263\n",
      "Checkpoint 44 reached, JSON dumps saved | Time Elapsed: 2645.8500475883484\n",
      "Checkpoint 45 reached, JSON dumps saved | Time Elapsed: 2684.4378321170807\n",
      "Checkpoint 46 reached, JSON dumps saved | Time Elapsed: 2744.773622274399\n",
      "Checkpoint 47 reached, JSON dumps saved | Time Elapsed: 2803.4618237018585\n",
      "Checkpoint 48 reached, JSON dumps saved | Time Elapsed: 2846.2913761138916\n",
      "Checkpoint 49 reached, JSON dumps saved | Time Elapsed: 2873.521389245987\n",
      "Checkpoint 50 reached, JSON dumps saved | Time Elapsed: 2899.4368510246277\n",
      "Checkpoint 51 reached, JSON dumps saved | Time Elapsed: 2926.8228220939636\n",
      "Checkpoint 52 reached, JSON dumps saved | Time Elapsed: 2971.485548734665\n",
      "Checkpoint 53 reached, JSON dumps saved | Time Elapsed: 3006.089823484421\n",
      "Checkpoint 54 reached, JSON dumps saved | Time Elapsed: 3052.0020937919617\n",
      "Checkpoint 55 reached, JSON dumps saved | Time Elapsed: 3086.715672016144\n"
     ]
    },
    {
     "name": "stderr",
     "output_type": "stream",
     "text": [
      "Wikidata redirect detected.  Input entity id=Q23039002. Returned entity id=Q12795967.\n"
     ]
    },
    {
     "name": "stdout",
     "output_type": "stream",
     "text": [
      "Checkpoint 56 reached, JSON dumps saved | Time Elapsed: 3117.559594154358\n",
      "Checkpoint 57 reached, JSON dumps saved | Time Elapsed: 3143.804900407791\n",
      "Checkpoint 58 reached, JSON dumps saved | Time Elapsed: 3184.8111715316772\n",
      "Checkpoint 59 reached, JSON dumps saved | Time Elapsed: 3219.332836151123\n",
      "Checkpoint 60 reached, JSON dumps saved | Time Elapsed: 3258.0100610256195\n",
      "Checkpoint 61 reached, JSON dumps saved | Time Elapsed: 3283.8272020816803\n",
      "Checkpoint 62 reached, JSON dumps saved | Time Elapsed: 3310.3819451332092\n",
      "Checkpoint 63 reached, JSON dumps saved | Time Elapsed: 3333.5070214271545\n",
      "Checkpoint 64 reached, JSON dumps saved | Time Elapsed: 3358.6681773662567\n",
      "Checkpoint 65 reached, JSON dumps saved | Time Elapsed: 3382.217349052429\n",
      "Checkpoint 66 reached, JSON dumps saved | Time Elapsed: 3401.7007727622986\n",
      "Checkpoint 67 reached, JSON dumps saved | Time Elapsed: 3428.516932487488\n",
      "Checkpoint 68 reached, JSON dumps saved | Time Elapsed: 3461.605919122696\n",
      "Checkpoint 69 reached, JSON dumps saved | Time Elapsed: 3482.0201251506805\n",
      "Checkpoint 70 reached, JSON dumps saved | Time Elapsed: 3513.4933862686157\n",
      "Checkpoint 71 reached, JSON dumps saved | Time Elapsed: 3555.2124054431915\n",
      "Checkpoint 72 reached, JSON dumps saved | Time Elapsed: 3583.7444217205048\n",
      "Checkpoint 73 reached, JSON dumps saved | Time Elapsed: 3615.843460083008\n",
      "Checkpoint 74 reached, JSON dumps saved | Time Elapsed: 3637.8589618206024\n",
      "Checkpoint 75 reached, JSON dumps saved | Time Elapsed: 3677.0425837039948\n",
      "Checkpoint 76 reached, JSON dumps saved | Time Elapsed: 3702.9161446094513\n",
      "Checkpoint 77 reached, JSON dumps saved | Time Elapsed: 3740.268854856491\n",
      "Checkpoint 78 reached, JSON dumps saved | Time Elapsed: 3769.2906041145325\n",
      "Checkpoint 79 reached, JSON dumps saved | Time Elapsed: 3799.686087369919\n",
      "Checkpoint 80 reached, JSON dumps saved | Time Elapsed: 3820.9024891853333\n",
      "Checkpoint 81 reached, JSON dumps saved | Time Elapsed: 3848.2877016067505\n",
      "Checkpoint 82 reached, JSON dumps saved | Time Elapsed: 3874.263420343399\n",
      "Checkpoint 83 reached, JSON dumps saved | Time Elapsed: 3896.9384014606476\n"
     ]
    },
    {
     "name": "stderr",
     "output_type": "stream",
     "text": [
      "Wikidata redirect detected.  Input entity id=Q21493525. Returned entity id=Q10390522.\n"
     ]
    },
    {
     "name": "stdout",
     "output_type": "stream",
     "text": [
      "Checkpoint 84 reached, JSON dumps saved | Time Elapsed: 3915.2210364341736\n",
      "Checkpoint 85 reached, JSON dumps saved | Time Elapsed: 3938.032824754715\n",
      "Checkpoint 86 reached, JSON dumps saved | Time Elapsed: 3967.008377790451\n",
      "Checkpoint 87 reached, JSON dumps saved | Time Elapsed: 3992.8059828281403\n",
      "Checkpoint 88 reached, JSON dumps saved | Time Elapsed: 4022.008956670761\n",
      "Checkpoint 89 reached, JSON dumps saved | Time Elapsed: 4053.029325246811\n",
      "Checkpoint 90 reached, JSON dumps saved | Time Elapsed: 4077.3499042987823\n",
      "Checkpoint 91 reached, JSON dumps saved | Time Elapsed: 4111.802200078964\n",
      "Checkpoint 92 reached, JSON dumps saved | Time Elapsed: 4135.4665195941925\n",
      "Checkpoint 93 reached, JSON dumps saved | Time Elapsed: 4161.0262978076935\n",
      "Checkpoint 94 reached, JSON dumps saved | Time Elapsed: 4181.848559379578\n",
      "Checkpoint 95 reached, JSON dumps saved | Time Elapsed: 4212.783807754517\n",
      "Checkpoint 96 reached, JSON dumps saved | Time Elapsed: 4238.035322666168\n",
      "Checkpoint 97 reached, JSON dumps saved | Time Elapsed: 4266.887929916382\n",
      "Checkpoint 98 reached, JSON dumps saved | Time Elapsed: 4291.743608474731\n",
      "Checkpoint 99 reached, JSON dumps saved | Time Elapsed: 4312.033397436142\n",
      "Checkpoint 100 reached, JSON dumps saved | Time Elapsed: 4337.458762645721\n",
      "Checkpoint 101 reached, JSON dumps saved | Time Elapsed: 4362.0597512722015\n",
      "Checkpoint 102 reached, JSON dumps saved | Time Elapsed: 4392.7092118263245\n",
      "Checkpoint 103 reached, JSON dumps saved | Time Elapsed: 4422.7507417202\n",
      "Checkpoint 104 reached, JSON dumps saved | Time Elapsed: 4442.055162191391\n",
      "Checkpoint 105 reached, JSON dumps saved | Time Elapsed: 4463.40026473999\n",
      "Checkpoint 106 reached, JSON dumps saved | Time Elapsed: 4490.8964331150055\n",
      "Checkpoint 107 reached, JSON dumps saved | Time Elapsed: 4510.377876758575\n",
      "Checkpoint 108 reached, JSON dumps saved | Time Elapsed: 4539.272700786591\n",
      "Checkpoint 109 reached, JSON dumps saved | Time Elapsed: 4564.707308769226\n",
      "Checkpoint 110 reached, JSON dumps saved | Time Elapsed: 4593.400249242783\n",
      "Checkpoint 111 reached, JSON dumps saved | Time Elapsed: 4616.747258424759\n",
      "Checkpoint 112 reached, JSON dumps saved | Time Elapsed: 4647.486789226532\n",
      "Checkpoint 113 reached, JSON dumps saved | Time Elapsed: 4666.055742025375\n",
      "Checkpoint 114 reached, JSON dumps saved | Time Elapsed: 4687.294291496277\n",
      "Checkpoint 115 reached, JSON dumps saved | Time Elapsed: 4713.344168663025\n"
     ]
    },
    {
     "name": "stderr",
     "output_type": "stream",
     "text": [
      "Wikidata redirect detected.  Input entity id=Q21453734. Returned entity id=Q14590094.\n"
     ]
    },
    {
     "name": "stdout",
     "output_type": "stream",
     "text": [
      "Checkpoint 116 reached, JSON dumps saved | Time Elapsed: 4733.23392367363\n",
      "Checkpoint 117 reached, JSON dumps saved | Time Elapsed: 4755.147875070572\n",
      "Checkpoint 118 reached, JSON dumps saved | Time Elapsed: 4778.959326267242\n",
      "Checkpoint 119 reached, JSON dumps saved | Time Elapsed: 4795.771826505661\n",
      "Checkpoint 120 reached, JSON dumps saved | Time Elapsed: 4817.611234903336\n",
      "Checkpoint 121 reached, JSON dumps saved | Time Elapsed: 4839.167044401169\n",
      "Checkpoint 122 reached, JSON dumps saved | Time Elapsed: 4854.411942720413\n",
      "Checkpoint 123 reached, JSON dumps saved | Time Elapsed: 4880.6273312568665\n",
      "Checkpoint 124 reached, JSON dumps saved | Time Elapsed: 4899.690867185593\n",
      "Checkpoint 125 reached, JSON dumps saved | Time Elapsed: 4923.692687034607\n",
      "Checkpoint 126 reached, JSON dumps saved | Time Elapsed: 4941.568258047104\n",
      "Checkpoint 127 reached, JSON dumps saved | Time Elapsed: 4957.810575008392\n",
      "Checkpoint 128 reached, JSON dumps saved | Time Elapsed: 4980.089985132217\n",
      "Checkpoint 129 reached, JSON dumps saved | Time Elapsed: 5009.655016183853\n",
      "Checkpoint 130 reached, JSON dumps saved | Time Elapsed: 5027.178674936295\n",
      "Checkpoint 131 reached, JSON dumps saved | Time Elapsed: 5044.686809301376\n",
      "Checkpoint 132 reached, JSON dumps saved | Time Elapsed: 5067.436361789703\n",
      "Checkpoint 133 reached, JSON dumps saved | Time Elapsed: 5085.79438829422\n",
      "Checkpoint 134 reached, JSON dumps saved | Time Elapsed: 5109.601133584976\n",
      "Checkpoint 135 reached, JSON dumps saved | Time Elapsed: 5131.676876783371\n",
      "Checkpoint 136 reached, JSON dumps saved | Time Elapsed: 5144.760476350784\n",
      "Checkpoint 137 reached, JSON dumps saved | Time Elapsed: 5161.319867372513\n",
      "Checkpoint 138 reached, JSON dumps saved | Time Elapsed: 5177.990261554718\n",
      "Checkpoint 139 reached, JSON dumps saved | Time Elapsed: 5198.966500282288\n",
      "Checkpoint 140 reached, JSON dumps saved | Time Elapsed: 5217.365015506744\n",
      "Checkpoint 141 reached, JSON dumps saved | Time Elapsed: 5240.489421367645\n",
      "Checkpoint 142 reached, JSON dumps saved | Time Elapsed: 5259.827812194824\n",
      "Checkpoint 143 reached, JSON dumps saved | Time Elapsed: 5277.148156166077\n",
      "Checkpoint 144 reached, JSON dumps saved | Time Elapsed: 5303.678921222687\n",
      "Checkpoint 145 reached, JSON dumps saved | Time Elapsed: 5322.831763744354\n",
      "Checkpoint 146 reached, JSON dumps saved | Time Elapsed: 5340.122306108475\n",
      "Checkpoint 147 reached, JSON dumps saved | Time Elapsed: 5361.694841146469\n",
      "Checkpoint 148 reached, JSON dumps saved | Time Elapsed: 5382.304302692413\n",
      "Checkpoint 149 reached, JSON dumps saved | Time Elapsed: 5400.327102899551\n"
     ]
    },
    {
     "name": "stderr",
     "output_type": "stream",
     "text": [
      "Wikidata redirect detected.  Input entity id=Q19540914. Returned entity id=Q16471351.\n"
     ]
    },
    {
     "name": "stdout",
     "output_type": "stream",
     "text": [
      "Checkpoint 150 reached, JSON dumps saved | Time Elapsed: 5419.919678926468\n",
      "Checkpoint 151 reached, JSON dumps saved | Time Elapsed: 5440.2959225177765\n",
      "Checkpoint 152 reached, JSON dumps saved | Time Elapsed: 5454.625851869583\n",
      "Checkpoint 153 reached, JSON dumps saved | Time Elapsed: 5470.888478279114\n",
      "Checkpoint 154 reached, JSON dumps saved | Time Elapsed: 5490.357317686081\n",
      "Checkpoint 155 reached, JSON dumps saved | Time Elapsed: 5506.045521497726\n",
      "Checkpoint 156 reached, JSON dumps saved | Time Elapsed: 5523.778427600861\n",
      "Checkpoint 157 reached, JSON dumps saved | Time Elapsed: 5549.201649427414\n",
      "Checkpoint 158 reached, JSON dumps saved | Time Elapsed: 5566.572125196457\n",
      "Checkpoint 159 reached, JSON dumps saved | Time Elapsed: 5595.400729417801\n",
      "Checkpoint 160 reached, JSON dumps saved | Time Elapsed: 5620.007109165192\n",
      "Checkpoint 161 reached, JSON dumps saved | Time Elapsed: 5639.688066244125\n",
      "Checkpoint 162 reached, JSON dumps saved | Time Elapsed: 5662.860732316971\n",
      "Checkpoint 163 reached, JSON dumps saved | Time Elapsed: 5682.864449739456\n",
      "Checkpoint 164 reached, JSON dumps saved | Time Elapsed: 5711.4956176280975\n",
      "Checkpoint 165 reached, JSON dumps saved | Time Elapsed: 5736.619390249252\n",
      "Checkpoint 166 reached, JSON dumps saved | Time Elapsed: 5756.421187400818\n",
      "Checkpoint 167 reached, JSON dumps saved | Time Elapsed: 5778.294643878937\n",
      "Checkpoint 168 reached, JSON dumps saved | Time Elapsed: 5796.061272621155\n",
      "Checkpoint 169 reached, JSON dumps saved | Time Elapsed: 5813.089643239975\n",
      "Checkpoint 170 reached, JSON dumps saved | Time Elapsed: 5830.061865329742\n",
      "Checkpoint 171 reached, JSON dumps saved | Time Elapsed: 5841.782269954681\n",
      "Checkpoint 172 reached, JSON dumps saved | Time Elapsed: 5857.065722703934\n",
      "Checkpoint 173 reached, JSON dumps saved | Time Elapsed: 5872.363607406616\n",
      "Checkpoint 174 reached, JSON dumps saved | Time Elapsed: 5886.807453632355\n",
      "Checkpoint 175 reached, JSON dumps saved | Time Elapsed: 5901.28528213501\n",
      "Checkpoint 176 reached, JSON dumps saved | Time Elapsed: 5924.082917928696\n",
      "Checkpoint 177 reached, JSON dumps saved | Time Elapsed: 5944.450612068176\n",
      "Checkpoint 178 reached, JSON dumps saved | Time Elapsed: 5963.315310955048\n",
      "Checkpoint 179 reached, JSON dumps saved | Time Elapsed: 5981.978896141052\n",
      "Checkpoint 180 reached, JSON dumps saved | Time Elapsed: 6002.607191324234\n",
      "Checkpoint 181 reached, JSON dumps saved | Time Elapsed: 6014.65661740303\n",
      "Checkpoint 182 reached, JSON dumps saved | Time Elapsed: 6026.799622535706\n",
      "Checkpoint 183 reached, JSON dumps saved | Time Elapsed: 6050.28080701828\n",
      "Checkpoint 184 reached, JSON dumps saved | Time Elapsed: 6068.111346960068\n",
      "Checkpoint 185 reached, JSON dumps saved | Time Elapsed: 6091.115365028381\n"
     ]
    }
   ],
   "source": [
    "labelled_person_list = {}\n",
    "label_list = {}\n",
    "non_labelled_props = ['P727']\n",
    "\n",
    "t0 = time.time()\n",
    "\n",
    "index = 0\n",
    "\n",
    "count_persons = 0\n",
    "\n",
    "for person_id in list(wikipage_person_dict.keys()):\n",
    "    \n",
    "    person = person_dict[person_id]\n",
    "    \n",
    "    person_labelled_prop_val = {}\n",
    "    list_prop_value = person['claims']\n",
    "    list_properties = list(list_prop_value.keys())\n",
    "    \n",
    "    #Removing Properties from list of properties which dont have a wikidata page\n",
    "    for prop in non_labelled_props:\n",
    "        if prop in list_properties:\n",
    "            list_properties.remove(prop)\n",
    "    \n",
    "    list_properties_copy = list_properties\n",
    "    \n",
    "    #Adding all properties to label list. The ones which dont have wikidata pages are stored in non_labelled_props \n",
    "    for prop in list_properties:\n",
    "        if prop not in label_list.keys():\n",
    "            try:\n",
    "                prop_details = get_entity_dict_from_api(prop)\n",
    "                prop_label = prop_details['labels']['en']['value']\n",
    "                label_list[prop] = prop_label\n",
    "            except:\n",
    "                non_labelled_props.append(prop)\n",
    "                list_properties_copy.remove(prop)\n",
    "    \n",
    "    list_properties = list_properties_copy\n",
    "    \n",
    "    #For all values per property, label is extracted for each value ID [Q##### format]\n",
    "    for prop in list_properties:\n",
    "        \n",
    "        labelled_values = []\n",
    "       \n",
    "        for value in list_prop_value[prop]:\n",
    "            \n",
    "            #Entities which directly have a value instead of an ID for an entity are saved\n",
    "            if value['mainsnak']['snaktype'] == 'value' and isinstance(value['mainsnak']['datavalue']['value'], str):\n",
    "                labelled_values.append(value['mainsnak']['datavalue']['value'])\n",
    "            \n",
    "            #There are entities whose values are in form of Dictionary of values and not a string. These types\n",
    "            #are checked here\n",
    "            elif value['mainsnak']['snaktype'] == 'value' and isinstance(value['mainsnak']['datavalue']['value'], dict):\n",
    "                \n",
    "                #Extracting labels for Entities saved in terms of IDs\n",
    "                if 'id' in value['mainsnak']['datavalue']['value'].keys():\n",
    "                    \n",
    "                    value_id = value['mainsnak']['datavalue']['value']['id']\n",
    "                    value_label = ''\n",
    "                    \n",
    "                    #Extracted labels are stored in label_list for faster computation\n",
    "                    if value_id not in label_list.keys():\n",
    "                        \n",
    "                        value_details = get_entity_dict_from_api(value_id)\n",
    "                        if 'labels' in value_details.keys() and 'en' in value_details['labels'].keys():\n",
    "                            value_label = value_details['labels']['en']['value']\n",
    "                            label_list[value_id] = value_label\n",
    "\n",
    "                    if value_label != '' or value_id in label_list.keys():\n",
    "                        labelled_values.append(label_list[value_id])\n",
    "                    \n",
    "                else:\n",
    "                    labelled_values.append(value['mainsnak']['datavalue']['value'])\n",
    "        \n",
    "        if labelled_values:\n",
    "            person_labelled_prop_val[label_list[prop]] = labelled_values\n",
    "    \n",
    "    labelled_person_list[person['id']] = person_labelled_prop_val\n",
    "    \n",
    "    count_persons = count_persons + 1\n",
    "    \n",
    "    if count_persons%20 == 0:\n",
    "        partition_num = str(count_persons/20).split('.')[0]\n",
    "        with open('./Data/English_Labelled_Wikidata_businessperson/en_labelled_part'+ partition_num + '.json', 'w') as fout:\n",
    "            json.dump(labelled_person_list, fout)\n",
    "        \n",
    "        labelled_person_list = {}\n",
    "        \n",
    "        print(\"Checkpoint %d reached, JSON dumps saved |\" % (count_persons/20), end = ' ')\n",
    "        print(\"Time Elapsed:\", end = ' ')\n",
    "        print(time.time()-t0)\n",
    "    \n",
    "t1 = time.time()\n",
    "total = t1-t0"
   ]
  },
  {
   "cell_type": "markdown",
   "metadata": {},
   "source": [
    "#### 4. Extracting Labels for left over IDs"
   ]
  },
  {
   "cell_type": "code",
   "execution_count": null,
   "metadata": {},
   "outputs": [],
   "source": [
    "labelled_wikidata_en = {}\n",
    "for i in range(1,185):\n",
    "    with open('./Data/English_Labelled_Wikidata_'+occupation+'/en_labelled_part'+str(i)+'.json') as f:\n",
    "        labelled_wikidata_en.update(json.load(f))"
   ]
  },
  {
   "cell_type": "code",
   "execution_count": 6,
   "metadata": {},
   "outputs": [],
   "source": [
    "left_over = {}\n",
    "for key in wikipage_person_dict.keys():\n",
    "    if key not in labelled_wikidata_en.keys():\n",
    "        left_over[key] = wikipage_person_dict[key]"
   ]
  },
  {
   "cell_type": "code",
   "execution_count": 7,
   "metadata": {},
   "outputs": [
    {
     "name": "stdout",
     "output_type": "stream",
     "text": [
      "1\n",
      "2\n",
      "3\n",
      "4\n",
      "5\n",
      "6\n",
      "7\n",
      "8\n",
      "9\n",
      "10\n",
      "11\n",
      "12\n",
      "13\n",
      "14\n",
      "15\n",
      "16\n",
      "17\n",
      "18\n",
      "19\n",
      "20\n",
      "21\n",
      "22\n",
      "23\n",
      "24\n",
      "25\n",
      "26\n",
      "27\n",
      "28\n",
      "29\n",
      "30\n",
      "31\n",
      "32\n",
      "33\n",
      "34\n",
      "35\n",
      "36\n",
      "37\n",
      "38\n"
     ]
    }
   ],
   "source": [
    "labelled_person_list_left_over = {}\n",
    "index = 0\n",
    "label_list = {}\n",
    "non_labelled_props = ['P727']\n",
    "\n",
    "for person_id in left_over.keys():\n",
    "    \n",
    "    person = person_dict[person_id]\n",
    "    \n",
    "    person_labelled_prop_val = {}\n",
    "    list_prop_value = person['claims']\n",
    "    list_properties = list(list_prop_value.keys())\n",
    "    \n",
    "    #Removing Properties from list of properties which dont have a wikidata page\n",
    "    for prop in non_labelled_props:\n",
    "        if prop in list_properties:\n",
    "            list_properties.remove(prop)\n",
    "    \n",
    "    list_properties_copy = list_properties\n",
    "    \n",
    "    #Adding all properties to label list. The ones which dont have wikidata pages are stored in non_labelled_props \n",
    "    for prop in list_properties:\n",
    "        if prop not in label_list.keys():\n",
    "            try:\n",
    "                prop_details = get_entity_dict_from_api(prop)\n",
    "                prop_label = prop_details['labels']['en']['value']\n",
    "                label_list[prop] = prop_label\n",
    "            except:\n",
    "                non_labelled_props.append(prop)\n",
    "                list_properties_copy.remove(prop)\n",
    "    \n",
    "    list_properties = list_properties_copy\n",
    "    \n",
    "    #For all values per property, label is extracted for each value ID [Q##### format]\n",
    "    for prop in list_properties:\n",
    "        \n",
    "        labelled_values = []\n",
    "       \n",
    "        for value in list_prop_value[prop]:\n",
    "            \n",
    "            #Entities which directly have a value instead of an ID for an entity are saved\n",
    "            if value['mainsnak']['snaktype'] == 'value' and isinstance(value['mainsnak']['datavalue']['value'], str):\n",
    "                labelled_values.append(value['mainsnak']['datavalue']['value'])\n",
    "            \n",
    "            #There are entities whose values are in form of Dictionary of values and not a string. These types\n",
    "            #are checked here\n",
    "            elif value['mainsnak']['snaktype'] == 'value' and isinstance(value['mainsnak']['datavalue']['value'], dict):\n",
    "                \n",
    "                #Extracting labels for Entities saved in terms of IDs\n",
    "                if 'id' in value['mainsnak']['datavalue']['value'].keys():\n",
    "                    \n",
    "                    value_id = value['mainsnak']['datavalue']['value']['id']\n",
    "                    value_label = ''\n",
    "                    \n",
    "                    #Extracted labels are stored in label_list for faster computation\n",
    "                    if value_id not in label_list.keys():\n",
    "                        \n",
    "                        value_details = get_entity_dict_from_api(value_id)\n",
    "                        \n",
    "                        if 'labels' in value_details.keys() and 'en' in value_details['labels'].keys():\n",
    "                            value_label = value_details['labels']['en']['value']\n",
    "                            label_list[value_id] = value_label\n",
    "\n",
    "                    if value_label != '' or value_id in label_list.keys():\n",
    "                        labelled_values.append(label_list[value_id])\n",
    "                    \n",
    "                else:\n",
    "                    labelled_values.append(value['mainsnak']['datavalue']['value'])\n",
    "        \n",
    "        if labelled_values:\n",
    "            person_labelled_prop_val[label_list[prop]] = labelled_values\n",
    "    \n",
    "    index+=1\n",
    "    print(index)\n",
    "    \n",
    "    labelled_person_list_left_over[person['id']] = person_labelled_prop_val"
   ]
  },
  {
   "cell_type": "code",
   "execution_count": null,
   "metadata": {},
   "outputs": [],
   "source": [
    "with open('./Data/English_Labelled_Wikidata_'+occupation+'/en_labelled_part186.json', 'w') as fout:\n",
    "    json.dump(labelled_person_list_left_over, fout)"
   ]
  },
  {
   "cell_type": "code",
   "execution_count": null,
   "metadata": {},
   "outputs": [],
   "source": []
  }
 ],
 "metadata": {
  "kernelspec": {
   "display_name": "nl_proj_env",
   "language": "python",
   "name": "python3"
  },
  "language_info": {
   "codemirror_mode": {
    "name": "ipython",
    "version": 3
   },
   "file_extension": ".py",
   "mimetype": "text/x-python",
   "name": "python",
   "nbconvert_exporter": "python",
   "pygments_lexer": "ipython3",
   "version": "3.9.20"
  }
 },
 "nbformat": 4,
 "nbformat_minor": 2
}
