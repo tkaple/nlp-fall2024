{
 "cells": [
  {
   "cell_type": "markdown",
   "metadata": {},
   "source": [
    "#### 1. Importing Libraries"
   ]
  },
  {
   "cell_type": "code",
   "execution_count": 1,
   "metadata": {},
   "outputs": [],
   "source": [
    "import sys\n",
    "import requests\n",
    "import bs4\n",
    "import json\n",
    "import re\n",
    "import time\n",
    "from nltk.tokenize import sent_tokenize\n",
    "import re"
   ]
  },
  {
   "cell_type": "markdown",
   "metadata": {},
   "source": [
    "#### 2. Extracting WikiPages for all English Labelled Monuments"
   ]
  },
  {
   "cell_type": "code",
   "execution_count": 2,
   "metadata": {
    "scrolled": true
   },
   "outputs": [],
   "source": [
    "person_list = []\n",
    "for i in range(1,25):\n",
    "    with open('./Data/Wikidata_JSON_businessperson/en_businessperson_dump_part'+str(i)+'.json') as f:\n",
    "        new_list = json.load(f)\n",
    "        person_list = person_list + new_list"
   ]
  },
  {
   "cell_type": "code",
   "execution_count": 10,
   "metadata": {},
   "outputs": [
    {
     "name": "stdout",
     "output_type": "stream",
     "text": [
      "Checkpoint 1 reached, JSON dumps saved | Time Elapsed: 71.89372253417969\n",
      "Checkpoint 2 reached, JSON dumps saved | Time Elapsed: 152.0993046760559\n",
      "Checkpoint 3 reached, JSON dumps saved | Time Elapsed: 239.07315397262573\n",
      "Checkpoint 4 reached, JSON dumps saved | Time Elapsed: 320.444961309433\n",
      "Checkpoint 5 reached, JSON dumps saved | Time Elapsed: 400.30911898612976\n",
      "Checkpoint 6 reached, JSON dumps saved | Time Elapsed: 474.4340031147003\n",
      "Checkpoint 7 reached, JSON dumps saved | Time Elapsed: 556.4206521511078\n",
      "Checkpoint 8 reached, JSON dumps saved | Time Elapsed: 635.4039008617401\n",
      "Checkpoint 9 reached, JSON dumps saved | Time Elapsed: 719.8054065704346\n",
      "Checkpoint 10 reached, JSON dumps saved | Time Elapsed: 802.2399859428406\n",
      "Checkpoint 11 reached, JSON dumps saved | Time Elapsed: 882.3462934494019\n",
      "Checkpoint 12 reached, JSON dumps saved | Time Elapsed: 963.8035509586334\n",
      "Checkpoint 13 reached, JSON dumps saved | Time Elapsed: 1043.0440764427185\n",
      "Checkpoint 14 reached, JSON dumps saved | Time Elapsed: 1125.5735800266266\n",
      "Checkpoint 15 reached, JSON dumps saved | Time Elapsed: 1213.995483160019\n",
      "Checkpoint 16 reached, JSON dumps saved | Time Elapsed: 1296.1433925628662\n",
      "Checkpoint 17 reached, JSON dumps saved | Time Elapsed: 1378.6395404338837\n",
      "Checkpoint 18 reached, JSON dumps saved | Time Elapsed: 1459.399331331253\n",
      "Checkpoint 19 reached, JSON dumps saved | Time Elapsed: 1548.2025384902954\n",
      "Checkpoint 20 reached, JSON dumps saved | Time Elapsed: 1635.8309710025787\n",
      "Checkpoint 21 reached, JSON dumps saved | Time Elapsed: 1722.1300616264343\n",
      "Checkpoint 22 reached, JSON dumps saved | Time Elapsed: 1809.6071224212646\n",
      "Checkpoint 23 reached, JSON dumps saved | Time Elapsed: 1891.4972825050354\n"
     ]
    }
   ],
   "source": [
    "t0 = time.time()\n",
    "articles = {}\n",
    "count_persons = 0\n",
    "curr_count_persons = 0\n",
    "for person in person_list:\n",
    "    res = requests.get('https://en.wikipedia.org/wiki/' + person['labels']['en']['value'])\n",
    "    # print(res.text)\n",
    "    if res.status_code != 404:\n",
    "        wiki = bs4.BeautifulSoup(res.text,\"html.parser\")\n",
    "        elems = wiki.select('p')\n",
    "        article = []\n",
    "        for i in range(len(elems)):\n",
    "            text = elems[i].getText().replace('\\n', '').lower()\n",
    "            text = text.replace('\\ufeff', ' ')\n",
    "            text = re.sub('\\[\\d+\\]', '', text.strip())\n",
    "            article.extend(sent_tokenize(text))\n",
    "    \n",
    "        if '' in article:\n",
    "            article.remove('')\n",
    "        \n",
    "        for i in range(0,len(article)):\n",
    "            article[i] = article[i].strip()\n",
    "            \n",
    "        articles[person['id']] = article\n",
    "    \n",
    "    count_persons = count_persons + 1\n",
    "    \n",
    "    if count_persons%200 == 0:\n",
    "        partition_num = str(count_persons/200).split('.')[0]\n",
    "        with open('./Data/English_Wikipages_businessperson/en_articles_part'+ partition_num + '.json', 'w') as fout:\n",
    "            json.dump(articles, fout)\n",
    "        \n",
    "        articles = {}\n",
    "        \n",
    "        print(\"Checkpoint %d reached, JSON dumps saved |\" % (count_persons/200), end = ' ')\n",
    "        print(\"Time Elapsed:\", end = ' ')\n",
    "        print(time.time()-t0)\n",
    "\n",
    "t1 = time.time()\n",
    "total = t1-t0"
   ]
  },
  {
   "cell_type": "code",
   "execution_count": 11,
   "metadata": {},
   "outputs": [
    {
     "name": "stdout",
     "output_type": "stream",
     "text": [
      "1975.035441160202\n",
      "141\n"
     ]
    }
   ],
   "source": [
    "print(total)\n",
    "print(len(articles))"
   ]
  },
  {
   "cell_type": "code",
   "execution_count": 14,
   "metadata": {},
   "outputs": [
    {
     "data": {
      "text/plain": [
       "3718"
      ]
     },
     "execution_count": 14,
     "metadata": {},
     "output_type": "execute_result"
    }
   ],
   "source": [
    "tot_len = 0\n",
    "for i in range(1,23):\n",
    "    with open('./Data/English_Wikipages_businessperson/en_articles_part'+str(i)+'.json') as f:\n",
    "        tot_len += len(json.load(f))\n",
    "tot_len"
   ]
  },
  {
   "cell_type": "code",
   "execution_count": null,
   "metadata": {},
   "outputs": [],
   "source": []
  }
 ],
 "metadata": {
  "kernelspec": {
   "display_name": "nl_proj_env",
   "language": "python",
   "name": "python3"
  },
  "language_info": {
   "codemirror_mode": {
    "name": "ipython",
    "version": 3
   },
   "file_extension": ".py",
   "mimetype": "text/x-python",
   "name": "python",
   "nbconvert_exporter": "python",
   "pygments_lexer": "ipython3",
   "version": "3.9.20"
  }
 },
 "nbformat": 4,
 "nbformat_minor": 2
}
